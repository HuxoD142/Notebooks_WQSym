{
 "cells": [
  {
   "cell_type": "markdown",
   "metadata": {},
   "source": [
    "# Séries génératrices"
   ]
  },
  {
   "cell_type": "markdown",
   "metadata": {},
   "source": [
    "Nous nous intéressons ici aux calculs de séries génératrices des mots tassés et des sous-ensembles des mots tassés (irréductibles, rouges-irréductibles, bleus-irréductibles, doubles-irréductibles).\n",
    "\n",
    "Nous ajoutons ici une deuxième graduation qui correspond à la valeur maximale. Par exemple le terme ```(24*r^4 + 36*r^3 + 14*r^2 + r)*z^4``` signifie que pour les mots tassés de taille $4$: il y en a $24$ dont le maximum est $4$, $36$ dont le maximum est $3$, $14$ dont le maximum est $2$ et $1$ seul dont le maximum est $1$."
   ]
  },
  {
   "cell_type": "markdown",
   "metadata": {},
   "source": [
    "### Équations des théorèmes algébriques sur les séries"
   ]
  },
  {
   "cell_type": "code",
   "execution_count": 1,
   "metadata": {},
   "outputs": [],
   "source": [
    "from packed_words import *\n",
    "\n",
    "PR.<r> = PolynomialRing(QQ)\n",
    "PSR.<z> = PowerSeriesRing(PR)\n",
    "# z : degré = longueur\n",
    "# r : lettre max\n",
    "\n",
    "N = 5 # À changer pour avoir plus de termes"
   ]
  },
  {
   "cell_type": "code",
   "execution_count": 2,
   "metadata": {},
   "outputs": [
    {
     "data": {
      "text/plain": [
       "r*z + (2*r^2 + r)*z^2 + (6*r^3 + 6*r^2 + r)*z^3 + (24*r^4 + 36*r^3 + 14*r^2 + r)*z^4 + O(z^5)"
      ]
     },
     "execution_count": 2,
     "metadata": {},
     "output_type": "execute_result"
    }
   ],
   "source": [
    "# Dimensions de WQSym+ (ou mots tassés non vides)\n",
    "A = sum([z^n*sum(r^k*stirling_number2(n, k) * factorial(k) \n",
    "                 for k in range(n+1)) \n",
    "         for n in range(1,6)]) + O(z^N)\n",
    "A"
   ]
  },
  {
   "cell_type": "code",
   "execution_count": 3,
   "metadata": {},
   "outputs": [
    {
     "data": {
      "text/plain": [
       "True"
      ]
     },
     "execution_count": 3,
     "metadata": {},
     "output_type": "execute_result"
    }
   ],
   "source": [
    "A == sum(z^n * sum(r^(max(p)) \n",
    "                   for p in PackedWords(n))\n",
    "         for n in range(1,N)) + O(z^N)"
   ]
  },
  {
   "cell_type": "code",
   "execution_count": 4,
   "metadata": {},
   "outputs": [
    {
     "data": {
      "text/plain": [
       "r*z + (r^2 + r)*z^2 + (3*r^3 + 4*r^2 + r)*z^3 + (13*r^4 + 23*r^3 + 11*r^2 + r)*z^4 + O(z^5)"
      ]
     },
     "execution_count": 4,
     "metadata": {},
     "output_type": "execute_result"
    }
   ],
   "source": [
    "# Dimensions de Prim(WQSym) (ou mots tassés irréductibles)\n",
    "P = A / (1 + A)\n",
    "P"
   ]
  },
  {
   "cell_type": "code",
   "execution_count": 5,
   "metadata": {},
   "outputs": [
    {
     "data": {
      "text/plain": [
       "True"
      ]
     },
     "execution_count": 5,
     "metadata": {},
     "output_type": "execute_result"
    }
   ],
   "source": [
    "P == sum(z^n * sum(r^(max(p)) \n",
    "                   for p in PackedWords(n) if p.is_irreducible())\n",
    "         for n in range(1,5)) + O(z^N)"
   ]
  },
  {
   "cell_type": "code",
   "execution_count": 6,
   "metadata": {},
   "outputs": [
    {
     "data": {
      "text/plain": [
       "r*z + r*z^2 + (r^3 + 2*r^2 + r)*z^3 + (6*r^4 + 13*r^3 + 8*r^2 + r)*z^4 + O(z^5)"
      ]
     },
     "execution_count": 6,
     "metadata": {},
     "output_type": "execute_result"
    }
   ],
   "source": [
    "# Dimensions de TPrim(WQSym) (ou mots tassés rouges-irréductibles \n",
    "#                                         ou bleus-irréductibles)\n",
    "T = A / (1 + A) ^ 2\n",
    "T"
   ]
  },
  {
   "cell_type": "code",
   "execution_count": 7,
   "metadata": {},
   "outputs": [
    {
     "data": {
      "text/plain": [
       "True"
      ]
     },
     "execution_count": 7,
     "metadata": {},
     "output_type": "execute_result"
    }
   ],
   "source": [
    "T == sum(z^n * sum(r^(max(p)) \n",
    "                   for p in PackedWords(n) if p.is_irreducible(\"red\"))\n",
    "         for n in range(1,N)) + O(z^N)"
   ]
  },
  {
   "cell_type": "markdown",
   "metadata": {},
   "source": [
    "Si nous regardons la série $\\mathcal{A}/(1 + \\mathcal{A})^3$ sans le paramètre $r$, tous les termes sont positifs,  nous pouvons donc supposer qu'il existe un sous-ensemble de mots tassés qui engendre librement tous les mots tassés en tant qu'algèbre bigraft."
   ]
  },
  {
   "cell_type": "code",
   "execution_count": 8,
   "metadata": {},
   "outputs": [
    {
     "data": {
      "text/plain": [
       "z + z^3 + 14*z^4 + O(z^5)"
      ]
     },
     "execution_count": 8,
     "metadata": {},
     "output_type": "execute_result"
    }
   ],
   "source": [
    "A(z,1) / (1 + A(z,1))^3"
   ]
  },
  {
   "cell_type": "markdown",
   "metadata": {},
   "source": [
    "Cependant, quand nous rajoutons le paramètre $r$, nous remarquons un terme négatif."
   ]
  },
  {
   "cell_type": "code",
   "execution_count": 9,
   "metadata": {},
   "outputs": [
    {
     "data": {
      "text/plain": [
       "r*z + (-r^2 + r)*z^2 + r*z^3 + (2*r^4 + 6*r^3 + 5*r^2 + r)*z^4 + O(z^5)"
      ]
     },
     "execution_count": 9,
     "metadata": {},
     "output_type": "execute_result"
    }
   ],
   "source": [
    "A / (1 + A)^3"
   ]
  },
  {
   "cell_type": "markdown",
   "metadata": {},
   "source": [
    "Ce terme négatif implique qu'il n'existe pas de sous ensemble de mots tassés qui engendre librement tous les mots tassés en tant qu'algèbre bigraft, comme nous l'avions supposé plus haut.\n",
    "\n",
    "Voici la série des mots tassés à la fois rouges-irréductibles et bleus-irréductibles."
   ]
  },
  {
   "cell_type": "code",
   "execution_count": 10,
   "metadata": {},
   "outputs": [
    {
     "data": {
      "text/plain": [
       "r*z + r*z^2 + (r^3 + r^2 + r)*z^3 + (5*r^4 + 10*r^3 + 6*r^2 + r)*z^4 + O(z^5)"
      ]
     },
     "execution_count": 10,
     "metadata": {},
     "output_type": "execute_result"
    }
   ],
   "source": [
    "# Mots tassés à la fois rouges-irréductibles \n",
    "#                    et bleus-irréductibles\n",
    "I = A / (1 + A)^3 + z*r*P\n",
    "I"
   ]
  },
  {
   "cell_type": "code",
   "execution_count": 23,
   "metadata": {
    "scrolled": true
   },
   "outputs": [
    {
     "data": {
      "text/plain": [
       "True"
      ]
     },
     "execution_count": 23,
     "metadata": {},
     "output_type": "execute_result"
    }
   ],
   "source": [
    "I == sum(z^n * sum(r^(max(p)) \n",
    "                   for p in PackedWords(n) \n",
    "                   if p.is_irreducible(\"bicolored\"))\n",
    "         for n in range(1,N)) + O(z^N)"
   ]
  },
  {
   "cell_type": "markdown",
   "metadata": {},
   "source": [
    "### Pompage pour obtenir les séries des forêts d'arbres bleus"
   ]
  },
  {
   "cell_type": "markdown",
   "metadata": {},
   "source": [
    "Nous utilisons ici la grammaire suivante des forêts d'arbres bleus:\n",
    "- Forest $\\to$ [] | Tree,Forest\n",
    "- Tree   $\\to$ Node,Forest\n",
    "- Node   $\\to$ $1^\\circ$ | $1^\\bullet$,Tree | $i^\\alpha$,Tree$^*$ (avec $2 \\leq i \\leq weight(Tree^*)$)"
   ]
  },
  {
   "cell_type": "code",
   "execution_count": 12,
   "metadata": {},
   "outputs": [],
   "source": [
    "def pump_forest(Tree, Forest):\n",
    "    return 1 + Tree * Forest\n",
    "\n",
    "def pump_ske(Node, Forest):\n",
    "    return Node * Forest\n",
    "\n",
    "def pump_blue_node(BTree):\n",
    "    res = r*z # correspond au mot 1\n",
    "    res+= z * BTree \n",
    "    # correspond à l'ajout d'un 1 à la fin sans augmentation\n",
    "    res+= (r + 1)*z * r^2 * (BTree/r).derivative(r) \n",
    "    # correspond à un noeud étiqueté avec i != 1\n",
    "    return res"
   ]
  },
  {
   "cell_type": "code",
   "execution_count": 13,
   "metadata": {},
   "outputs": [],
   "source": [
    "BForest = 1 + O(z)\n",
    "BTree = 0 + O(z)\n",
    "BNode = 0 + O(z)"
   ]
  },
  {
   "cell_type": "code",
   "execution_count": 14,
   "metadata": {},
   "outputs": [
    {
     "name": "stdout",
     "output_type": "stream",
     "text": [
      "r*z + r*z^2 + (r^3 + 2*r^2 + r)*z^3 + (6*r^4 + 13*r^3 + 8*r^2 + r)*z^4 + O(z^5)\n",
      "r*z + (r^2 + r)*z^2 + (3*r^3 + 4*r^2 + r)*z^3 + (13*r^4 + 23*r^3 + 11*r^2 + r)*z^4 + O(z^5)\n",
      "1 + r*z + (2*r^2 + r)*z^2 + (6*r^3 + 6*r^2 + r)*z^3 + (24*r^4 + 36*r^3 + 14*r^2 + r)*z^4 + O(z^5)\n"
     ]
    }
   ],
   "source": [
    "for _ in range(N-1):\n",
    "    BNode = pump_blue_node(BTree)\n",
    "    BTree = pump_ske(BNode,BForest)\n",
    "    BForest = pump_forest(BTree,BForest)\n",
    "print(BNode)\n",
    "print(BTree)\n",
    "print(BForest)"
   ]
  },
  {
   "cell_type": "markdown",
   "metadata": {},
   "source": [
    "Voici plus de détails pour le passage de la grammaire à la fonction pour la dernière étape:\n",
    "\n",
    "$i^\\alpha$,Tree$^*$ (avec $2 \\leq i \\leq weight(Tree^*)$) qui devient ```(r + 1)*z * r^2 * (BTree/r).derivative(r) ```"
   ]
  },
  {
   "cell_type": "code",
   "execution_count": 15,
   "metadata": {},
   "outputs": [
    {
     "data": {
      "text/plain": [
       "r*z + (r^2 + r)*z^2 + (3*r^3 + 4*r^2 + r)*z^3 + (13*r^4 + 23*r^3 + 11*r^2 + r)*z^4 + O(z^5)"
      ]
     },
     "execution_count": 15,
     "metadata": {},
     "output_type": "execute_result"
    }
   ],
   "source": [
    "BTree"
   ]
  },
  {
   "cell_type": "code",
   "execution_count": 16,
   "metadata": {},
   "outputs": [
    {
     "data": {
      "text/plain": [
       "r*z + r*z^2 + r*z^3 + r*z^4 + O(z^5)"
      ]
     },
     "execution_count": 16,
     "metadata": {},
     "output_type": "execute_result"
    }
   ],
   "source": [
    "max1 = r*((BTree/(r))(z,0))\n",
    "max1 # correspond aux mots dont le max est 1"
   ]
  },
  {
   "cell_type": "code",
   "execution_count": 17,
   "metadata": {},
   "outputs": [
    {
     "data": {
      "text/plain": [
       "r^2*z^2 + 4*r^2*z^3 + 11*r^2*z^4 + O(z^5)"
      ]
     },
     "execution_count": 17,
     "metadata": {},
     "output_type": "execute_result"
    }
   ],
   "source": [
    "max2 = r^2*(((BTree-max1)/r^2)(z,0))\n",
    "max2 # correspond aux mots dont le max est 2"
   ]
  },
  {
   "cell_type": "code",
   "execution_count": 18,
   "metadata": {},
   "outputs": [
    {
     "data": {
      "text/plain": [
       "3*r^3*z^3 + 23*r^3*z^4 + O(z^5)"
      ]
     },
     "execution_count": 18,
     "metadata": {},
     "output_type": "execute_result"
    }
   ],
   "source": [
    "max3 = r^3*(((BTree-max1-max2)/r^3)(z,0))\n",
    "max3 # correspond aux mots dont le max est 3"
   ]
  },
  {
   "cell_type": "markdown",
   "metadata": {},
   "source": [
    "```BTree - max1``` correspond à l'ensemble des arbres pouvant être étiquetés par $2^\\alpha$\n",
    "\n",
    "```BTree - max1 - max2``` correspond à l'ensemble des arbres pouvant être étiquetés par $3^\\alpha$\n",
    "\n",
    "```BTree - max1 - max2 - max3``` correspond à l'ensemble des arbres pouvant être étiquetés par $4^\\alpha$\n",
    "\n",
    "[...]\n",
    "\n",
    "La somme de tous ces ensembles correspond donc aux arbres pouvant être étiquetés par $i^\\alpha$."
   ]
  },
  {
   "cell_type": "code",
   "execution_count": 19,
   "metadata": {},
   "outputs": [
    {
     "data": {
      "text/plain": [
       "r^2*z^2 + (6*r^3 + 4*r^2)*z^3 + (39*r^4 + 46*r^3 + 11*r^2)*z^4 + O(z^5)"
      ]
     },
     "execution_count": 19,
     "metadata": {},
     "output_type": "execute_result"
    }
   ],
   "source": [
    "(BTree-max1) + (BTree-max1-max2) + (BTree-max1-max2-max3)"
   ]
  },
  {
   "cell_type": "code",
   "execution_count": 20,
   "metadata": {},
   "outputs": [
    {
     "data": {
      "text/plain": [
       "r*z + (r^2 + r)*z^2 + (3*r^3 + 4*r^2 + r)*z^3 + (13*r^4 + 23*r^3 + 11*r^2 + r)*z^4 + O(z^5)"
      ]
     },
     "execution_count": 20,
     "metadata": {},
     "output_type": "execute_result"
    }
   ],
   "source": [
    "BTree"
   ]
  },
  {
   "cell_type": "markdown",
   "metadata": {},
   "source": [
    "Nous remarquons que pour une puissance de $z$ donnée, le coefficient de $r^2$ est compté $1$ fois, le coefficient de $r^3$ est compté $2$ fois, le coefficient de $r^4$ est compté $3$ fois et ainsi de suite. La formule pour les arbres pouvant être étiquetés par $i^\\alpha$ est donc la suivante:"
   ]
  },
  {
   "cell_type": "code",
   "execution_count": 21,
   "metadata": {},
   "outputs": [
    {
     "data": {
      "text/plain": [
       "r^2*z^2 + (6*r^3 + 4*r^2)*z^3 + (39*r^4 + 46*r^3 + 11*r^2)*z^4 + O(z^5)"
      ]
     },
     "execution_count": 21,
     "metadata": {},
     "output_type": "execute_result"
    }
   ],
   "source": [
    "r^2*(BTree/r).derivative(r)"
   ]
  },
  {
   "cell_type": "markdown",
   "metadata": {},
   "source": [
    "Lorsqu'un arbre de cet ensemble est étiqueté par $i^\\alpha$ on ajoute 1 à la longueur du mot et le ```r + 1``` correspond à la valeur d'$\\alpha$ (on ajoute un à la valeur max si $\\alpha = \\circ$, zéro si $\\alpha = \\bullet$). \n",
    "\n",
    "Finalement nous avons bien ``` (r + 1)*z * r^2 * (BTree/r).derivative(r) ```"
   ]
  },
  {
   "cell_type": "markdown",
   "metadata": {},
   "source": [
    "Pour conclure, nous obtenons bien les mêmes séries que plus haut."
   ]
  },
  {
   "cell_type": "code",
   "execution_count": 22,
   "metadata": {},
   "outputs": [
    {
     "name": "stdout",
     "output_type": "stream",
     "text": [
      "O(z^5)\n",
      "O(z^5)\n",
      "O(z^5)\n"
     ]
    }
   ],
   "source": [
    "print(T - BNode)\n",
    "print(P - BTree)\n",
    "print(A + 1 - BForest)"
   ]
  },
  {
   "cell_type": "markdown",
   "metadata": {},
   "source": [
    "Il est possible d'appliquer un raisonnement similaire pour les forêts d'arbres rouges."
   ]
  }
 ],
 "metadata": {
  "kernelspec": {
   "display_name": "SageMath 9.1.beta7",
   "language": "sage",
   "name": "sagemath"
  },
  "language_info": {
   "codemirror_mode": {
    "name": "ipython",
    "version": 3
   },
   "file_extension": ".py",
   "mimetype": "text/x-python",
   "name": "python",
   "nbconvert_exporter": "python",
   "pygments_lexer": "ipython3",
   "version": "3.7.3"
  }
 },
 "nbformat": 4,
 "nbformat_minor": 2
}
