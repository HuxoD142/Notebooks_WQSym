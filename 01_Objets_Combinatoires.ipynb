{
 "cells": [
  {
   "cell_type": "markdown",
   "metadata": {},
   "source": [
    "# Objets Combinatoires"
   ]
  },
  {
   "cell_type": "markdown",
   "metadata": {},
   "source": [
    "## Mots tassés"
   ]
  },
  {
   "cell_type": "markdown",
   "metadata": {},
   "source": [
    "Nous exposons ici les fonctions sur les mots tassés qui sont utiles pour l'automorphisme bidendriforme de WQSym."
   ]
  },
  {
   "cell_type": "code",
   "execution_count": 1,
   "metadata": {},
   "outputs": [],
   "source": [
    "from packed_words import *"
   ]
  },
  {
   "cell_type": "code",
   "execution_count": 2,
   "metadata": {},
   "outputs": [
    {
     "data": {
      "text/plain": [
       "[]"
      ]
     },
     "execution_count": 2,
     "metadata": {},
     "output_type": "execute_result"
    }
   ],
   "source": [
    "PackedWord([]) # le mot vide"
   ]
  },
  {
   "cell_type": "code",
   "execution_count": 3,
   "metadata": {},
   "outputs": [
    {
     "data": {
      "text/plain": [
       "[1]"
      ]
     },
     "execution_count": 3,
     "metadata": {},
     "output_type": "execute_result"
    }
   ],
   "source": [
    "PackedWord([1]) # le mot tassé de taille 1"
   ]
  },
  {
   "cell_type": "code",
   "execution_count": 4,
   "metadata": {},
   "outputs": [
    {
     "data": {
      "text/plain": [
       "[1, 1, 2]"
      ]
     },
     "execution_count": 4,
     "metadata": {},
     "output_type": "execute_result"
    }
   ],
   "source": [
    "PackedWord([1,1,2]) # un mot tassé de taille 3"
   ]
  },
  {
   "cell_type": "code",
   "execution_count": 5,
   "metadata": {},
   "outputs": [
    {
     "name": "stdout",
     "output_type": "stream",
     "text": [
      "Le mot tassé p = [3, 1, 2, 1, 2] est de taille 5 et sa valeur maximale est 3 .\n"
     ]
    }
   ],
   "source": [
    "p = PackedWord([3,1,2,1,2])\n",
    "print(\"Le mot tassé p =\", p, \"est de taille\", p.size(), \\\n",
    "      \"et sa valeur maximale est\", p.max(), \".\")"
   ]
  },
  {
   "cell_type": "markdown",
   "metadata": {},
   "source": [
    "Les mots tassés sont ordonnés comme les partitions ordonnées, selon l'ordre lexicographique de leurs compositions."
   ]
  },
  {
   "cell_type": "code",
   "execution_count": 6,
   "metadata": {},
   "outputs": [
    {
     "data": {
      "text/plain": [
       "[[1, 2, 3],\n",
       " [1, 3, 2],\n",
       " [2, 1, 3],\n",
       " [2, 3, 1],\n",
       " [3, 1, 2],\n",
       " [3, 2, 1],\n",
       " [1, 2, 2],\n",
       " [2, 1, 2],\n",
       " [2, 2, 1],\n",
       " [1, 1, 2],\n",
       " [1, 2, 1],\n",
       " [2, 1, 1],\n",
       " [1, 1, 1]]"
      ]
     },
     "execution_count": 6,
     "metadata": {},
     "output_type": "execute_result"
    }
   ],
   "source": [
    "PackedWords(3).list()"
   ]
  },
  {
   "cell_type": "code",
   "execution_count": 7,
   "metadata": {},
   "outputs": [
    {
     "name": "stdout",
     "output_type": "stream",
     "text": [
      "[1, 1, 1]     \t [1, 2, 3]\n",
      "[1, 1, 1]     \t [1, 3, 2]\n",
      "[1, 1, 1]     \t [2, 1, 3]\n",
      "[1, 1, 1]     \t [2, 3, 1]\n",
      "[1, 1, 1]     \t [3, 1, 2]\n",
      "[1, 1, 1]     \t [3, 2, 1]\n",
      "[1, 2]     \t [1, 2, 2]\n",
      "[1, 2]     \t [2, 1, 2]\n",
      "[1, 2]     \t [2, 2, 1]\n",
      "[2, 1]     \t [1, 1, 2]\n",
      "[2, 1]     \t [1, 2, 1]\n",
      "[2, 1]     \t [2, 1, 1]\n",
      "[3]     \t [1, 1, 1]\n"
     ]
    }
   ],
   "source": [
    "for p in PackedWords(3):\n",
    "    print(p.to_composition(),\"    \\t\",p)"
   ]
  },
  {
   "cell_type": "markdown",
   "metadata": {},
   "source": [
    "Nous avons dû implanter les calculs des descentes globales et de la factorisation en descentes globales car ces fonctions sont très utiles dans tous nos travaux."
   ]
  },
  {
   "cell_type": "code",
   "execution_count": 8,
   "metadata": {},
   "outputs": [
    {
     "data": {
      "text/plain": [
       "[]"
      ]
     },
     "execution_count": 8,
     "metadata": {},
     "output_type": "execute_result"
    }
   ],
   "source": [
    "PackedWord([1, 2, 1]).global_descents()"
   ]
  },
  {
   "cell_type": "code",
   "execution_count": 9,
   "metadata": {},
   "outputs": [
    {
     "data": {
      "text/plain": [
       "[1]"
      ]
     },
     "execution_count": 9,
     "metadata": {},
     "output_type": "execute_result"
    }
   ],
   "source": [
    "PackedWord([2, 1]).global_descents()"
   ]
  },
  {
   "cell_type": "code",
   "execution_count": 10,
   "metadata": {},
   "outputs": [
    {
     "data": {
      "text/plain": [
       "[1, 4, 5]"
      ]
     },
     "execution_count": 10,
     "metadata": {},
     "output_type": "execute_result"
    }
   ],
   "source": [
    "pw = PackedWord([7, 5, 4, 6, 3, 1, 2, 1]);\n",
    "pw.global_descents()"
   ]
  },
  {
   "cell_type": "code",
   "execution_count": 11,
   "metadata": {},
   "outputs": [
    {
     "data": {
      "text/plain": [
       "[[1], [2, 1, 3], [1], [1, 2, 1]]"
      ]
     },
     "execution_count": 11,
     "metadata": {},
     "output_type": "execute_result"
    }
   ],
   "source": [
    "pw.global_descents_factorization()"
   ]
  },
  {
   "cell_type": "markdown",
   "metadata": {},
   "source": [
    "Il est possible de tester si un mot tassé est irréductible, rouge-irréductible, bleu-irréductible ou encore à la fois rouge-irréductible et bleu-irréductible."
   ]
  },
  {
   "cell_type": "code",
   "execution_count": 12,
   "metadata": {},
   "outputs": [
    {
     "data": {
      "text/plain": [
       "False"
      ]
     },
     "execution_count": 12,
     "metadata": {},
     "output_type": "execute_result"
    }
   ],
   "source": [
    "pw.is_irreducible()"
   ]
  },
  {
   "cell_type": "code",
   "execution_count": 13,
   "metadata": {},
   "outputs": [],
   "source": [
    "pw = PackedWord([1,4,3,2,1])"
   ]
  },
  {
   "cell_type": "code",
   "execution_count": 14,
   "metadata": {},
   "outputs": [
    {
     "data": {
      "text/plain": [
       "True"
      ]
     },
     "execution_count": 14,
     "metadata": {},
     "output_type": "execute_result"
    }
   ],
   "source": [
    "pw.is_irreducible()"
   ]
  },
  {
   "cell_type": "code",
   "execution_count": 15,
   "metadata": {},
   "outputs": [
    {
     "data": {
      "text/plain": [
       "True"
      ]
     },
     "execution_count": 15,
     "metadata": {},
     "output_type": "execute_result"
    }
   ],
   "source": [
    "pw.is_red_irreducible()"
   ]
  },
  {
   "cell_type": "code",
   "execution_count": 16,
   "metadata": {},
   "outputs": [
    {
     "data": {
      "text/plain": [
       "True"
      ]
     },
     "execution_count": 16,
     "metadata": {},
     "output_type": "execute_result"
    }
   ],
   "source": [
    "pw.is_irreducible(\"red\") # équivalent à pw.is_red_irreducible()"
   ]
  },
  {
   "cell_type": "code",
   "execution_count": 17,
   "metadata": {},
   "outputs": [
    {
     "data": {
      "text/plain": [
       "True"
      ]
     },
     "execution_count": 17,
     "metadata": {},
     "output_type": "execute_result"
    }
   ],
   "source": [
    "pw.is_blue_irreducible() # ou pw.is_irreducible(\"blue\")"
   ]
  },
  {
   "cell_type": "code",
   "execution_count": 18,
   "metadata": {},
   "outputs": [
    {
     "data": {
      "text/plain": [
       "True"
      ]
     },
     "execution_count": 18,
     "metadata": {},
     "output_type": "execute_result"
    }
   ],
   "source": [
    "p.is_bicolored_irreducible() # ou pw.is_irreducible(\"bicolored\")"
   ]
  },
  {
   "cell_type": "markdown",
   "metadata": {},
   "source": [
    "On obtient alors facilement la liste des mots tassés rouges-irréductibles (resp. bleus-irréductibles) (resp. doubles-irréductibles)."
   ]
  },
  {
   "cell_type": "code",
   "execution_count": 19,
   "metadata": {},
   "outputs": [
    {
     "name": "stdout",
     "output_type": "stream",
     "text": [
      "[1, 3, 2]\n",
      "[2, 1, 2]\n",
      "[1, 2, 1]\n",
      "[1, 1, 1]\n"
     ]
    }
   ],
   "source": [
    "for p in PackedWords(3):\n",
    "    if p.is_irreducible(\"red\"):\n",
    "        print(p)"
   ]
  },
  {
   "cell_type": "code",
   "execution_count": 20,
   "metadata": {},
   "outputs": [
    {
     "name": "stdout",
     "output_type": "stream",
     "text": [
      "[1, 3, 2]\n",
      "[1, 2, 2]\n",
      "[1, 2, 1]\n",
      "[1, 1, 1]\n"
     ]
    }
   ],
   "source": [
    "for p in PackedWords(3):\n",
    "    if p.is_irreducible(\"blue\"):\n",
    "        print(p)"
   ]
  },
  {
   "cell_type": "code",
   "execution_count": 21,
   "metadata": {},
   "outputs": [
    {
     "name": "stdout",
     "output_type": "stream",
     "text": [
      "[1, 2, 4, 3]\n",
      "[1, 3, 4, 2]\n",
      "[1, 4, 2, 3]\n",
      "[1, 4, 3, 2]\n",
      "[2, 1, 4, 3]\n",
      "[1, 3, 2, 3]\n",
      "[1, 3, 3, 2]\n",
      "[3, 1, 3, 2]\n",
      "[1, 2, 3, 2]\n",
      "[1, 3, 2, 2]\n",
      "[2, 1, 3, 2]\n",
      "[2, 1, 2, 2]\n",
      "[1, 1, 3, 2]\n",
      "[1, 2, 3, 1]\n",
      "[1, 3, 1, 2]\n",
      "[1, 3, 2, 1]\n",
      "[1, 2, 1, 2]\n",
      "[1, 2, 2, 1]\n",
      "[2, 1, 2, 1]\n",
      "[1, 1, 2, 1]\n",
      "[1, 2, 1, 1]\n",
      "[1, 1, 1, 1]\n"
     ]
    }
   ],
   "source": [
    "for p in PackedWords(4):\n",
    "    if p.is_irreducible(\"bicolored\"):\n",
    "        print(p)"
   ]
  },
  {
   "cell_type": "markdown",
   "metadata": {},
   "source": [
    "## Arbres biplans"
   ]
  },
  {
   "cell_type": "markdown",
   "metadata": {},
   "source": [
    "Nous utilisons les ``LabelledOrderedTree`` natifs pour les arbres biplans. Les labels sont composés d'une paire. Le premier élément de cette paire est un entier qui correspond au nombre d'enfants gauches. Le deuxième élément est l'indice du noeud de l'arbre. \n",
    "\n",
    "Pour afficher les arbres biplans, nous avons la possibilité de les afficher avec du code ``ascii``, mais nous avons surtout notre propre fonction pour obtenir le code $\\LaTeX$ de ces arbres."
   ]
  },
  {
   "cell_type": "code",
   "execution_count": 22,
   "metadata": {},
   "outputs": [],
   "source": [
    "from tree_latex import to_biplan_latex"
   ]
  },
  {
   "cell_type": "code",
   "execution_count": 23,
   "metadata": {},
   "outputs": [],
   "source": [
    "pw = PackedWord([7,5,4,6,3,1,2,1])"
   ]
  },
  {
   "cell_type": "code",
   "execution_count": 24,
   "metadata": {
    "scrolled": true
   },
   "outputs": [
    {
     "data": {
      "text/plain": [
       "[ (0, [1]),   ___(2, [1])     , (0, [1]), (0, [1, 2, 1]) ]\n",
       "[            /        /                                  ]\n",
       "[           (0, [1]) (0, [1])                            ]"
      ]
     },
     "execution_count": 24,
     "metadata": {},
     "output_type": "execute_result"
    }
   ],
   "source": [
    "ascii_art(pw.to_biplan(\"red\", skeleton = True))"
   ]
  },
  {
   "cell_type": "code",
   "execution_count": 25,
   "metadata": {},
   "outputs": [],
   "source": [
    "view(to_biplan_latex(pw, \"red\", skeleton = True))"
   ]
  },
  {
   "cell_type": "code",
   "execution_count": 26,
   "metadata": {},
   "outputs": [
    {
     "data": {
      "text/plain": [
       "[ (0, [1, 2, 1]), (0, [1]),   ___(2, [1])     , (0, [1]) ]\n",
       "[                            /        /                  ]\n",
       "[                           (0, [1]) (0, [1])            ]"
      ]
     },
     "execution_count": 26,
     "metadata": {},
     "output_type": "execute_result"
    }
   ],
   "source": [
    "ascii_art(pw.to_biplan(\"blue\", skeleton = True))"
   ]
  },
  {
   "cell_type": "code",
   "execution_count": 27,
   "metadata": {},
   "outputs": [],
   "source": [
    "view(to_biplan_latex(pw, \"blue\", skeleton = True))"
   ]
  },
  {
   "cell_type": "code",
   "execution_count": 28,
   "metadata": {},
   "outputs": [
    {
     "data": {
      "text/plain": [
       "[ (0, [1]),   ___(2, [1])     , (0, [1]), (0, [2])    ]\n",
       "[            /        /                   |           ]\n",
       "[           (0, [1]) (0, [1])             (0, [1, 2]) ]"
      ]
     },
     "execution_count": 28,
     "metadata": {},
     "output_type": "execute_result"
    }
   ],
   "source": [
    "ascii_art(pw.to_biplan(\"red\"))"
   ]
  },
  {
   "cell_type": "code",
   "execution_count": 29,
   "metadata": {},
   "outputs": [],
   "source": [
    "view(to_biplan_latex(pw, \"red\"))"
   ]
  },
  {
   "cell_type": "code",
   "execution_count": 30,
   "metadata": {
    "scrolled": true
   },
   "outputs": [
    {
     "data": {
      "text/plain": [
       "[ (0, (1, True)) , (0, (1, False)),   _______(2, (1, False))        ,\n",
       "[ |                                  /               /               \n",
       "[ (1, (1, False))                   (0, (1, False)) (0, (1, False))  \n",
       "[ |                                                                  \n",
       "[ (0, (1, False))                                                    \n",
       "\n",
       " (0, (1, False)) ]\n",
       "                 ]\n",
       "                 ]\n",
       "                 ]\n",
       "                 ]"
      ]
     },
     "execution_count": 30,
     "metadata": {},
     "output_type": "execute_result"
    }
   ],
   "source": [
    "ascii_art(pw.to_biplan(\"blue\"))"
   ]
  },
  {
   "cell_type": "code",
   "execution_count": 31,
   "metadata": {},
   "outputs": [],
   "source": [
    "view(to_biplan_latex(pw, \"blue\"))"
   ]
  },
  {
   "cell_type": "code",
   "execution_count": 32,
   "metadata": {},
   "outputs": [
    {
     "data": {
      "text/plain": [
       "[ (0, [1]),   ___(2, [1])     , (0, [1]), (0, [1, 2, 1]) ]\n",
       "[            /        /                                  ]\n",
       "[           (0, [1]) (0, [1])                            ]"
      ]
     },
     "execution_count": 32,
     "metadata": {},
     "output_type": "execute_result"
    }
   ],
   "source": [
    "ascii_art(pw.to_biplan(bicolored = [\"red\", \"blue\"]))"
   ]
  },
  {
   "cell_type": "code",
   "execution_count": 33,
   "metadata": {},
   "outputs": [],
   "source": [
    "view(to_biplan_latex(pw, bicolored = [\"red\", \"blue\"]))"
   ]
  },
  {
   "cell_type": "code",
   "execution_count": 34,
   "metadata": {},
   "outputs": [
    {
     "data": {
      "text/plain": [
       "[ (0, [1, 2, 1]), (0, [1]),   ___(2, [1])     , (0, [1]) ]\n",
       "[                            /        /                  ]\n",
       "[                           (0, [1]) (0, [1])            ]"
      ]
     },
     "execution_count": 34,
     "metadata": {},
     "output_type": "execute_result"
    }
   ],
   "source": [
    "ascii_art(pw.to_biplan(bicolored = [\"blue\", \"red\"]))"
   ]
  },
  {
   "cell_type": "code",
   "execution_count": 35,
   "metadata": {},
   "outputs": [],
   "source": [
    "view(to_biplan_latex(pw, bicolored = [\"blue\", \"red\"]))"
   ]
  },
  {
   "cell_type": "code",
   "execution_count": 36,
   "metadata": {},
   "outputs": [],
   "source": [
    "pw = PackedWord([12,13,13,10,9,11,6,7,6,5,8,3,2,1,3,4,4,9])"
   ]
  },
  {
   "cell_type": "code",
   "execution_count": 37,
   "metadata": {},
   "outputs": [
    {
     "data": {
      "text/plain": [
       "[ (1, [1, 1]),   __________________(1, [1, 2, 1])_______             ]\n",
       "[ |             /             /                        /             ]\n",
       "[ (0, [1])     (0, [1])   ___(2, [1])                 (1, [1, 1])    ]\n",
       "[                        /        /                   |              ]\n",
       "[                       (0, [1]) (0, [1, 2, 1])    ___(0, [1, 1])    ]\n",
       "[                                                 /        /         ]\n",
       "[                                                (0, [1]) (0, [1])   ]"
      ]
     },
     "execution_count": 37,
     "metadata": {},
     "output_type": "execute_result"
    }
   ],
   "source": [
    "ascii_art(pw.to_biplan(bicolored = [\"red\", \"blue\"]))"
   ]
  },
  {
   "cell_type": "code",
   "execution_count": 38,
   "metadata": {},
   "outputs": [],
   "source": [
    "view(to_biplan_latex(pw, bicolored = [\"red\", \"blue\"]))"
   ]
  },
  {
   "cell_type": "code",
   "execution_count": 39,
   "metadata": {},
   "outputs": [
    {
     "data": {
      "text/plain": [
       "[        __________________(2, [1, 2, 1])_______       , (0, [1, 1]) ]\n",
       "[       /                  /                   /         |           ]\n",
       "[      (0, [1, 1])     ___(2, [1])            (0, [1])   (0, [1])    ]\n",
       "[      |              /        /                                     ]\n",
       "[   ___(2, [1, 1])   (0, [1]) (0, [1, 2, 1])                         ]\n",
       "[  /        /                                                        ]\n",
       "[ (0, [1]) (0, [1])                                                  ]"
      ]
     },
     "execution_count": 39,
     "metadata": {},
     "output_type": "execute_result"
    }
   ],
   "source": [
    "ascii_art(pw.to_biplan(bicolored = [\"blue\", \"red\"]))"
   ]
  },
  {
   "cell_type": "code",
   "execution_count": 40,
   "metadata": {},
   "outputs": [],
   "source": [
    "view(to_biplan_latex(pw, bicolored = [\"blue\", \"red\"]))"
   ]
  }
 ],
 "metadata": {
  "kernelspec": {
   "display_name": "SageMath 9.1.beta7",
   "language": "sage",
   "name": "sagemath"
  },
  "language_info": {
   "codemirror_mode": {
    "name": "ipython",
    "version": 3
   },
   "file_extension": ".py",
   "mimetype": "text/x-python",
   "name": "python",
   "nbconvert_exporter": "python",
   "pygments_lexer": "ipython3",
   "version": "3.7.3"
  }
 },
 "nbformat": 4,
 "nbformat_minor": 2
}
