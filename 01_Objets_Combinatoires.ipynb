{
 "cells": [
  {
   "cell_type": "markdown",
   "metadata": {},
   "source": [
    "# Objets Combinatoires"
   ]
  },
  {
   "cell_type": "markdown",
   "metadata": {},
   "source": [
    "## Mots tassés"
   ]
  },
  {
   "cell_type": "markdown",
   "metadata": {},
   "source": [
    "Petite intro sur les mots tassés!"
   ]
  },
  {
   "cell_type": "code",
   "execution_count": 1,
   "metadata": {},
   "outputs": [],
   "source": [
    "from packed_words import *"
   ]
  },
  {
   "cell_type": "code",
   "execution_count": 2,
   "metadata": {},
   "outputs": [
    {
     "data": {
      "text/plain": [
       "[]"
      ]
     },
     "execution_count": 2,
     "metadata": {},
     "output_type": "execute_result"
    }
   ],
   "source": [
    "PackedWord([])"
   ]
  },
  {
   "cell_type": "code",
   "execution_count": 3,
   "metadata": {},
   "outputs": [
    {
     "data": {
      "text/plain": [
       "[1]"
      ]
     },
     "execution_count": 3,
     "metadata": {},
     "output_type": "execute_result"
    }
   ],
   "source": [
    "PackedWord([1])"
   ]
  },
  {
   "cell_type": "code",
   "execution_count": 4,
   "metadata": {},
   "outputs": [
    {
     "data": {
      "text/plain": [
       "[1, 1, 2]"
      ]
     },
     "execution_count": 4,
     "metadata": {},
     "output_type": "execute_result"
    }
   ],
   "source": [
    "PackedWord([1,1,2])"
   ]
  },
  {
   "cell_type": "code",
   "execution_count": 5,
   "metadata": {},
   "outputs": [
    {
     "name": "stdout",
     "output_type": "stream",
     "text": [
      "Le mot tassé p = [3, 1, 2, 1, 2] est de taille 5 et la valeur maximum est 3 .\n"
     ]
    }
   ],
   "source": [
    "p = PackedWord([3,1,2,1,2])\n",
    "print(\"Le mot tassé p =\", p, \"est de taille\", p.size(), \\\n",
    "      \"et la valeur maximum est\", p.max(), \".\")"
   ]
  },
  {
   "cell_type": "markdown",
   "metadata": {},
   "source": [
    "Les mots tassés sont ordonnés commes les partitions ordonnées, selon l'ordre lexicographique de leurs compositions."
   ]
  },
  {
   "cell_type": "code",
   "execution_count": 6,
   "metadata": {},
   "outputs": [
    {
     "data": {
      "text/plain": [
       "[[1, 2, 3],\n",
       " [1, 3, 2],\n",
       " [2, 1, 3],\n",
       " [2, 3, 1],\n",
       " [3, 1, 2],\n",
       " [3, 2, 1],\n",
       " [1, 2, 2],\n",
       " [2, 1, 2],\n",
       " [2, 2, 1],\n",
       " [1, 1, 2],\n",
       " [1, 2, 1],\n",
       " [2, 1, 1],\n",
       " [1, 1, 1]]"
      ]
     },
     "execution_count": 6,
     "metadata": {},
     "output_type": "execute_result"
    }
   ],
   "source": [
    "PackedWords(3).list()"
   ]
  },
  {
   "cell_type": "code",
   "execution_count": 7,
   "metadata": {},
   "outputs": [
    {
     "name": "stdout",
     "output_type": "stream",
     "text": [
      "[1, 1, 1]     \t [1, 2, 3]\n",
      "[1, 1, 1]     \t [1, 3, 2]\n",
      "[1, 1, 1]     \t [2, 1, 3]\n",
      "[1, 1, 1]     \t [2, 3, 1]\n",
      "[1, 1, 1]     \t [3, 1, 2]\n",
      "[1, 1, 1]     \t [3, 2, 1]\n",
      "[1, 2]     \t [1, 2, 2]\n",
      "[1, 2]     \t [2, 1, 2]\n",
      "[1, 2]     \t [2, 2, 1]\n",
      "[2, 1]     \t [1, 1, 2]\n",
      "[2, 1]     \t [1, 2, 1]\n",
      "[2, 1]     \t [2, 1, 1]\n",
      "[3]     \t [1, 1, 1]\n"
     ]
    }
   ],
   "source": [
    "for p in PackedWords(3):\n",
    "    print(p.to_composition(),\"    \\t\",p)"
   ]
  },
  {
   "cell_type": "markdown",
   "metadata": {},
   "source": [
    "Parler des descentes globales!"
   ]
  },
  {
   "cell_type": "code",
   "execution_count": 8,
   "metadata": {},
   "outputs": [
    {
     "data": {
      "text/plain": [
       "[]"
      ]
     },
     "execution_count": 8,
     "metadata": {},
     "output_type": "execute_result"
    }
   ],
   "source": [
    "PackedWord([1, 2, 1]).global_descents()"
   ]
  },
  {
   "cell_type": "code",
   "execution_count": 9,
   "metadata": {},
   "outputs": [
    {
     "data": {
      "text/plain": [
       "[1]"
      ]
     },
     "execution_count": 9,
     "metadata": {},
     "output_type": "execute_result"
    }
   ],
   "source": [
    "PackedWord([2, 1]).global_descents()"
   ]
  },
  {
   "cell_type": "code",
   "execution_count": 3,
   "metadata": {},
   "outputs": [
    {
     "data": {
      "text/plain": [
       "[1, 4, 5]"
      ]
     },
     "execution_count": 3,
     "metadata": {},
     "output_type": "execute_result"
    }
   ],
   "source": [
    "pw = PackedWord([7, 5, 4, 6, 3, 1, 2, 1]);\n",
    "pw.global_descents()"
   ]
  },
  {
   "cell_type": "code",
   "execution_count": 11,
   "metadata": {},
   "outputs": [
    {
     "data": {
      "text/plain": [
       "[[1], [2, 1, 3], [1], [1, 2, 1]]"
      ]
     },
     "execution_count": 11,
     "metadata": {},
     "output_type": "execute_result"
    }
   ],
   "source": [
    "pw.global_descents_factorization()"
   ]
  },
  {
   "cell_type": "markdown",
   "metadata": {},
   "source": [
    "Ajouter des exemples!"
   ]
  },
  {
   "cell_type": "code",
   "execution_count": 24,
   "metadata": {
    "scrolled": true
   },
   "outputs": [
    {
     "data": {
      "text/plain": [
       "[1, 1, 1]"
      ]
     },
     "execution_count": 24,
     "metadata": {},
     "output_type": "execute_result"
    }
   ],
   "source": [
    "p"
   ]
  },
  {
   "cell_type": "code",
   "execution_count": 25,
   "metadata": {},
   "outputs": [
    {
     "data": {
      "text/plain": [
       "False"
      ]
     },
     "execution_count": 25,
     "metadata": {},
     "output_type": "execute_result"
    }
   ],
   "source": [
    "pw.is_irreducible()"
   ]
  },
  {
   "cell_type": "code",
   "execution_count": 26,
   "metadata": {},
   "outputs": [
    {
     "data": {
      "text/plain": [
       "[1, 4, 5]"
      ]
     },
     "execution_count": 26,
     "metadata": {},
     "output_type": "execute_result"
    }
   ],
   "source": [
    "pw.global_descents()"
   ]
  },
  {
   "cell_type": "code",
   "execution_count": 27,
   "metadata": {},
   "outputs": [
    {
     "data": {
      "text/plain": [
       "False"
      ]
     },
     "execution_count": 27,
     "metadata": {},
     "output_type": "execute_result"
    }
   ],
   "source": [
    "pw.is_red_irreducible()"
   ]
  },
  {
   "cell_type": "code",
   "execution_count": 28,
   "metadata": {},
   "outputs": [
    {
     "data": {
      "text/plain": [
       "False"
      ]
     },
     "execution_count": 28,
     "metadata": {},
     "output_type": "execute_result"
    }
   ],
   "source": [
    "pw.is_blue_irreducible()"
   ]
  },
  {
   "cell_type": "code",
   "execution_count": 29,
   "metadata": {},
   "outputs": [
    {
     "data": {
      "text/plain": [
       "True"
      ]
     },
     "execution_count": 29,
     "metadata": {},
     "output_type": "execute_result"
    }
   ],
   "source": [
    "p.is_bicolored_irreducible()"
   ]
  },
  {
   "cell_type": "code",
   "execution_count": 30,
   "metadata": {},
   "outputs": [
    {
     "name": "stdout",
     "output_type": "stream",
     "text": [
      "[1, 3, 2]\n",
      "[2, 1, 2]\n",
      "[1, 2, 1]\n",
      "[1, 1, 1]\n"
     ]
    }
   ],
   "source": [
    "for p in PackedWords(3):\n",
    "    if p.is_particular():\n",
    "        print(p)"
   ]
  },
  {
   "cell_type": "code",
   "execution_count": 31,
   "metadata": {},
   "outputs": [
    {
     "name": "stdout",
     "output_type": "stream",
     "text": [
      "[1, 3, 2]\n",
      "[1, 2, 2]\n",
      "[1, 2, 1]\n",
      "[1, 1, 1]\n"
     ]
    }
   ],
   "source": [
    "for p in PackedWords(3):\n",
    "    if p.is_particular(\"left\"):\n",
    "        print(p)"
   ]
  },
  {
   "cell_type": "markdown",
   "metadata": {},
   "source": [
    "Ensuite il faut parler des arbres et de la transition! (ligne 600 du fichier packed_words)"
   ]
  },
  {
   "cell_type": "markdown",
   "metadata": {},
   "source": [
    "## Arbres biplans"
   ]
  },
  {
   "cell_type": "markdown",
   "metadata": {},
   "source": [
    "Nous utilisons les ``LabelledOrderedTree`` natifs pour les arbres biplans. Les labels sont composés d'une paire. Le premier élément de cette paire est un entier qui correspond au nombre de fils gauche. Le deuxième élément est l'indice du noeud de l'arbre."
   ]
  },
  {
   "cell_type": "markdown",
   "metadata": {},
   "source": [
    "TODO: Faire en sorte que le latex arrive direct en jolie (utiliser ``tree_latex`` et ``srcipt``)"
   ]
  },
  {
   "cell_type": "markdown",
   "metadata": {},
   "source": [
    "load(\"~/recherche/opahc/perso/tree_latex.py\")"
   ]
  },
  {
   "cell_type": "markdown",
   "metadata": {},
   "source": [
    "from viewLatex import viewLatex;"
   ]
  },
  {
   "cell_type": "markdown",
   "metadata": {},
   "source": [
    "view([tree_latex(t) for t in p.packed_word_to_labelled_forest()])"
   ]
  },
  {
   "cell_type": "code",
   "execution_count": 1,
   "metadata": {},
   "outputs": [],
   "source": [
    "from tree_latex import tree_latex, better_tree_latex"
   ]
  },
  {
   "cell_type": "code",
   "execution_count": 2,
   "metadata": {},
   "outputs": [],
   "source": [
    "pw = PackedWord([7,5,4,6,3,1,2,1])"
   ]
  },
  {
   "cell_type": "code",
   "execution_count": 5,
   "metadata": {
    "scrolled": true
   },
   "outputs": [],
   "source": [
    "ll = better_tree_latex(pw)"
   ]
  },
  {
   "cell_type": "code",
   "execution_count": 7,
   "metadata": {},
   "outputs": [],
   "source": [
    "view(ll)"
   ]
  },
  {
   "cell_type": "markdown",
   "metadata": {},
   "source": [
    "Montrer aussi avec des ``ascii_art(f)`` et surtout en $\\LaTeX$ (si j'y arrive...)"
   ]
  },
  {
   "cell_type": "markdown",
   "metadata": {},
   "source": [
    "TODO: Ajouter un alias pour que ``to_biplan`` fasse ce que je veux :p\n",
    "Dire qu'il y a des fonctions un peu cacher mais que j'ai pas modifier tous les noms donc en fouillant on peut trouver ^^"
   ]
  },
  {
   "cell_type": "code",
   "execution_count": null,
   "metadata": {},
   "outputs": [],
   "source": [
    "#pw.to_biplan(\"red\", skeleton = True)"
   ]
  },
  {
   "cell_type": "code",
   "execution_count": null,
   "metadata": {},
   "outputs": [],
   "source": [
    "#pw.to_biplan(\"blue\", skeleton = True)"
   ]
  },
  {
   "cell_type": "code",
   "execution_count": 30,
   "metadata": {},
   "outputs": [],
   "source": [
    "#pw.to_biplan(\"red\")"
   ]
  },
  {
   "cell_type": "code",
   "execution_count": 31,
   "metadata": {},
   "outputs": [],
   "source": [
    "#pw.to_biplan(\"blue\")"
   ]
  },
  {
   "cell_type": "code",
   "execution_count": 32,
   "metadata": {},
   "outputs": [],
   "source": [
    "#pw.to_biplan((\"red\", \"blue\"))"
   ]
  },
  {
   "cell_type": "code",
   "execution_count": null,
   "metadata": {},
   "outputs": [],
   "source": [
    "#pw.to_biplan((\"blue\", \"red\"))"
   ]
  },
  {
   "cell_type": "markdown",
   "metadata": {},
   "source": [
    "Va aussi falloir parler de ``labelled_forest_to_packed_word``"
   ]
  },
  {
   "cell_type": "code",
   "execution_count": null,
   "metadata": {},
   "outputs": [],
   "source": []
  },
  {
   "cell_type": "markdown",
   "metadata": {},
   "source": [
    "TODO: Finir en donnant le code exacte qui donne le code latex de mes annexes! (un truc qui ressemble à ça mais en mieux)"
   ]
  },
  {
   "cell_type": "code",
   "execution_count": 34,
   "metadata": {},
   "outputs": [
    {
     "name": "stdout",
     "output_type": "stream",
     "text": [
      "[]\n",
      "[  ]\n",
      "\n",
      "[1]\n",
      "[ (0, [1]) ]\n",
      "\n",
      "[1, 2]\n",
      "[ (1, [1]) ]\n",
      "[ |        ]\n",
      "[ (0, [1]) ]\n",
      "\n",
      "[2, 1]\n",
      "[ (0, [1]), (0, [1]) ]\n",
      "\n",
      "[1, 2, 3]\n",
      "[ (1, [1]) ]\n",
      "[ |        ]\n",
      "[ (1, [1]) ]\n",
      "[ |        ]\n",
      "[ (0, [1]) ]\n",
      "\n",
      "[1, 3, 2]\n",
      "[ (0, [2]) ]\n",
      "[ |        ]\n",
      "[ (1, [1]) ]\n",
      "[ |        ]\n",
      "[ (0, [1]) ]\n",
      "\n",
      "[2, 1, 3]\n",
      "[   ___(2, [1])      ]\n",
      "[  /        /        ]\n",
      "[ (0, [1]) (0, [1])  ]\n",
      "\n",
      "[2, 3, 1]\n",
      "[ (1, [1]), (0, [1]) ]\n",
      "[ |                  ]\n",
      "[ (0, [1])           ]\n",
      "\n",
      "[3, 1, 2]\n",
      "[ (0, [1]), (1, [1]) ]\n",
      "[           |        ]\n",
      "[           (0, [1]) ]\n",
      "\n",
      "[3, 2, 1]\n",
      "[ (0, [1]), (0, [1]), (0, [1]) ]\n",
      "\n",
      "[1, 2, 3, 4]\n",
      "[ (1, [1]) ]\n",
      "[ |        ]\n",
      "[ (1, [1]) ]\n",
      "[ |        ]\n",
      "[ (1, [1]) ]\n",
      "[ |        ]\n",
      "[ (0, [1]) ]\n",
      "\n",
      "[1, 2, 4, 3]\n",
      "[ (0, [3]) ]\n",
      "[ |        ]\n",
      "[ (1, [1]) ]\n",
      "[ |        ]\n",
      "[ (1, [1]) ]\n",
      "[ |        ]\n",
      "[ (0, [1]) ]\n",
      "\n",
      "[1, 3, 2, 4]\n",
      "[ (1, [1]) ]\n",
      "[ |        ]\n",
      "[ (0, [2]) ]\n",
      "[ |        ]\n",
      "[ (1, [1]) ]\n",
      "[ |        ]\n",
      "[ (0, [1]) ]\n",
      "\n",
      "[1, 3, 4, 2]\n",
      "[ (0, [3]) ]\n",
      "[ |        ]\n",
      "[ (0, [2]) ]\n",
      "[ |        ]\n",
      "[ (1, [1]) ]\n",
      "[ |        ]\n",
      "[ (0, [1]) ]\n",
      "\n",
      "[1, 4, 2, 3]\n",
      "[ (0, [2]) ]\n",
      "[ |        ]\n",
      "[ (1, [1]) ]\n",
      "[ |        ]\n",
      "[ (1, [1]) ]\n",
      "[ |        ]\n",
      "[ (0, [1]) ]\n",
      "\n",
      "[1, 4, 3, 2]\n",
      "[ (0, [2]) ]\n",
      "[ |        ]\n",
      "[ (0, [2]) ]\n",
      "[ |        ]\n",
      "[ (1, [1]) ]\n",
      "[ |        ]\n",
      "[ (0, [1]) ]\n",
      "\n",
      "[2, 1, 3, 4]\n",
      "[      (1, [1])      ]\n",
      "[      |             ]\n",
      "[   ___(2, [1])      ]\n",
      "[  /        /        ]\n",
      "[ (0, [1]) (0, [1])  ]\n",
      "\n",
      "[2, 1, 4, 3]\n",
      "[      (0, [3])      ]\n",
      "[      |             ]\n",
      "[   ___(2, [1])      ]\n",
      "[  /        /        ]\n",
      "[ (0, [1]) (0, [1])  ]\n",
      "\n",
      "[2, 3, 1, 4]\n",
      "[   ___(2, [1])      ]\n",
      "[  /        /        ]\n",
      "[ (1, [1]) (0, [1])  ]\n",
      "[ |                  ]\n",
      "[ (0, [1])           ]\n",
      "\n",
      "[2, 3, 4, 1]\n",
      "[ (1, [1]), (0, [1]) ]\n",
      "[ |                  ]\n",
      "[ (1, [1])           ]\n",
      "[ |                  ]\n",
      "[ (0, [1])           ]\n",
      "\n",
      "[2, 4, 1, 3]\n",
      "[      (0, [2])      ]\n",
      "[      |             ]\n",
      "[   ___(2, [1])      ]\n",
      "[  /        /        ]\n",
      "[ (0, [1]) (0, [1])  ]\n",
      "\n",
      "[2, 4, 3, 1]\n",
      "[ (0, [2]), (0, [1]) ]\n",
      "[ |                  ]\n",
      "[ (1, [1])           ]\n",
      "[ |                  ]\n",
      "[ (0, [1])           ]\n",
      "\n",
      "[3, 1, 2, 4]\n",
      "[   ___(2, [1])      ]\n",
      "[  /        /        ]\n",
      "[ (0, [1]) (1, [1])  ]\n",
      "[          |         ]\n",
      "[          (0, [1])  ]\n",
      "\n",
      "[3, 1, 4, 2]\n",
      "[   ___(1, [2])      ]\n",
      "[  /        /        ]\n",
      "[ (0, [1]) (1, [1])  ]\n",
      "[          |         ]\n",
      "[          (0, [1])  ]\n",
      "\n",
      "[3, 2, 1, 4]\n",
      "[   ________(3, [1])__        ]\n",
      "[  /        /        /        ]\n",
      "[ (0, [1]) (0, [1]) (0, [1])  ]\n",
      "\n",
      "[3, 2, 4, 1]\n",
      "[   ___(2, [1])     , (0, [1]) ]\n",
      "[  /        /                  ]\n",
      "[ (0, [1]) (0, [1])            ]\n",
      "\n",
      "[3, 4, 1, 2]\n",
      "[ (1, [1]), (1, [1]) ]\n",
      "[ |         |        ]\n",
      "[ (0, [1])  (0, [1]) ]\n",
      "\n",
      "[3, 4, 2, 1]\n",
      "[ (1, [1]), (0, [1]), (0, [1]) ]\n",
      "[ |                            ]\n",
      "[ (0, [1])                     ]\n",
      "\n",
      "[4, 1, 2, 3]\n",
      "[ (0, [1]), (1, [1]) ]\n",
      "[           |        ]\n",
      "[           (1, [1]) ]\n",
      "[           |        ]\n",
      "[           (0, [1]) ]\n",
      "\n",
      "[4, 1, 3, 2]\n",
      "[ (0, [1]), (0, [2]) ]\n",
      "[           |        ]\n",
      "[           (1, [1]) ]\n",
      "[           |        ]\n",
      "[           (0, [1]) ]\n",
      "\n",
      "[4, 2, 1, 3]\n",
      "[ (0, [1]),   ___(2, [1])      ]\n",
      "[            /        /        ]\n",
      "[           (0, [1]) (0, [1])  ]\n",
      "\n",
      "[4, 2, 3, 1]\n",
      "[ (0, [1]), (1, [1]), (0, [1]) ]\n",
      "[           |                  ]\n",
      "[           (0, [1])           ]\n",
      "\n",
      "[4, 3, 1, 2]\n",
      "[ (0, [1]), (0, [1]), (1, [1]) ]\n",
      "[                     |        ]\n",
      "[                     (0, [1]) ]\n",
      "\n",
      "[4, 3, 2, 1]\n",
      "[ (0, [1]), (0, [1]), (0, [1]), (0, [1]) ]\n",
      "\n",
      "[1, 2, 3, 4, 5]\n",
      "[ (1, [1]) ]\n",
      "[ |        ]\n",
      "[ (1, [1]) ]\n",
      "[ |        ]\n",
      "[ (1, [1]) ]\n",
      "[ |        ]\n",
      "[ (1, [1]) ]\n",
      "[ |        ]\n",
      "[ (0, [1]) ]\n",
      "\n"
     ]
    }
   ],
   "source": [
    "for p in Permutations():\n",
    "    print(p)\n",
    "    print(ascii_art(PackedWord(p).packed_word_to_labelled_forest()))\n",
    "    print()\n",
    "    if len(p) == 5:\n",
    "        break"
   ]
  },
  {
   "cell_type": "markdown",
   "metadata": {},
   "source": [
    "On fera attention, il n'y a quasiment pas de vérification sur les arbres. En gros pour avoir le latex il vaut mieux passer par les mots pcq si tu donnes un arbre qui n'est pas de la bonne couleur il n'y a pas de vérification (comportement inconnu, à tester ?)"
   ]
  }
 ],
 "metadata": {
  "kernelspec": {
   "display_name": "SageMath 9.1.beta7",
   "language": "sage",
   "name": "sagemath"
  },
  "language_info": {
   "codemirror_mode": {
    "name": "ipython",
    "version": 3
   },
   "file_extension": ".py",
   "mimetype": "text/x-python",
   "name": "python",
   "nbconvert_exporter": "python",
   "pygments_lexer": "ipython3",
   "version": "3.7.3"
  }
 },
 "nbformat": 4,
 "nbformat_minor": 2
}
