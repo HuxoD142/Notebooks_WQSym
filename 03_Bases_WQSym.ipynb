{
 "cells": [
  {
   "cell_type": "markdown",
   "metadata": {},
   "source": [
    "# Bases de WQSym"
   ]
  },
  {
   "cell_type": "markdown",
   "metadata": {},
   "source": [
    "Dire qu'il y a pas mal de bugs du style ``M[]``. On fera avec ^^'\n"
   ]
  },
  {
   "cell_type": "code",
   "execution_count": 1,
   "metadata": {},
   "outputs": [
    {
     "name": "stdout",
     "output_type": "stream",
     "text": [
      "Defining M as shorthand for Word Quasi-symmetric functions over Rational Field in the Monomial basis\n",
      "Defining X as shorthand for Word Quasi-symmetric functions over Rational Field in the Characteristic basis\n",
      "Defining C as shorthand for Word Quasi-symmetric functions over Rational Field in the Cone basis\n",
      "Defining Q as shorthand for Word Quasi-symmetric functions over Rational Field in the Q basis\n",
      "Defining Phi as shorthand for Word Quasi-symmetric functions over Rational Field in the Phi basis\n",
      "Defining O as shorthand for Word Quasi-symmetric functions over Rational Field in the O basis\n",
      "Defining P as shorthand for Word Quasi-symmetric functions over Rational Field in the P basis\n",
      "Defining R as shorthand for Word Quasi-symmetric functions over Rational Field in the RightWeakOrder basis\n",
      "Defining GL as shorthand for Word Quasi-symmetric functions over Rational Field in the GL basis\n",
      "Defining SR as shorthand for Word Quasi-symmetric functions over Rational Field in the SR basis\n"
     ]
    }
   ],
   "source": [
    "from wqsym import *\n",
    "from packed_words import *\n",
    "WQSym = WordQuasiSymmetricFunctions(QQ);\n",
    "WQSym.inject_shorthands();\n",
    "M.options.objects = 'words';\n",
    "M.options.display = 'compact'"
   ]
  },
  {
   "cell_type": "markdown",
   "metadata": {},
   "source": [
    "Comme on peut le voir, il y a pas mal de bases!\n",
    "\n",
    "TODO: Il manque les bases de Vargas. (Faire un autre notebook pour ça ?"
   ]
  },
  {
   "cell_type": "markdown",
   "metadata": {},
   "source": [
    "Nous ne parlerons pas ici des bases $\\mathbb{X}$, $\\mathbb{C}$ et $\\Phi$  qui sont dans déjà dans sage et dont je me sers pas.\n",
    "\n",
    "La base $\\mathbb{M}$ est la base monomial def par \n",
    "$$\\mathbb{M}_u := \\sum_{\\substack{w \\in \\mathcal{A}^*,\\\\pack(w) = u}}w.$$\n",
    "\n",
    "Les base $\\mathbb{Q}$, $\\mathbb{R}$, $\\mathbb{O}$ et $\\mathbb{P}$ sont les bases definient dans l'article $\\textit{Decompositions of packed words and self duality of Word Quasisymmetric Functions}$.\n",
    "\n",
    "TODO: Les bases $\\mathbb{GLD}$ etc... sont les bases def par vargas mais que j'ai renomé!.. autre section ou autre notebook"
   ]
  },
  {
   "cell_type": "markdown",
   "metadata": {},
   "source": [
    "### Automorphisme bidendriforme"
   ]
  },
  {
   "cell_type": "markdown",
   "metadata": {},
   "source": [
    "Produit, demi-produits, coproduit et demi-coproduits sont implenté pour les bases $\\mathbb{M}$, $\\mathbb{Q}$ et $\\mathbb{R}$."
   ]
  },
  {
   "cell_type": "code",
   "execution_count": 2,
   "metadata": {},
   "outputs": [
    {
     "data": {
      "text/plain": [
       "M[12143] + M[12132] + M[13142] + M[13132] + M[14132] + M[12131] + M[12121] + M[13121] + M[23241] + M[23231] + M[24231] + M[23221] + M[34321]"
      ]
     },
     "execution_count": 2,
     "metadata": {},
     "output_type": "execute_result"
    }
   ],
   "source": [
    "M[1,2,1] * M[2,1]"
   ]
  },
  {
   "cell_type": "code",
   "execution_count": 3,
   "metadata": {},
   "outputs": [
    {
     "data": {
      "text/plain": [
       "M[14132] + M[13121] + M[24231] + M[23221] + M[34321]"
      ]
     },
     "execution_count": 3,
     "metadata": {},
     "output_type": "execute_result"
    }
   ],
   "source": [
    "M[1,2,1] << M[2,1]"
   ]
  },
  {
   "cell_type": "code",
   "execution_count": 4,
   "metadata": {},
   "outputs": [
    {
     "data": {
      "text/plain": [
       "M[12143] + M[12132] + M[13142] + M[13132] + M[12131] + M[12121] + M[23241] + M[23231]"
      ]
     },
     "execution_count": 4,
     "metadata": {},
     "output_type": "execute_result"
    }
   ],
   "source": [
    "M[1,2,1] >> M[2,1]"
   ]
  },
  {
   "cell_type": "markdown",
   "metadata": {},
   "source": [
    "Attention, il faut toujours mettre les parenthèses avec les demi-produits, les priorité avec l'addition ne sont pas gérés!"
   ]
  },
  {
   "cell_type": "code",
   "execution_count": 5,
   "metadata": {},
   "outputs": [
    {
     "data": {
      "text/plain": [
       "True"
      ]
     },
     "execution_count": 5,
     "metadata": {},
     "output_type": "execute_result"
    }
   ],
   "source": [
    "M[1,2,1] * M[2,1] == (M[1,2,1] << M[2,1]) + (M[1,2,1] >> M[2,1])"
   ]
  },
  {
   "cell_type": "code",
   "execution_count": 6,
   "metadata": {},
   "outputs": [
    {
     "data": {
      "text/plain": [
       "M[] # M[24311242] + M[11] # M[132131] + M[21122] # M[212] + M[231122] # M[11] + M[24311242] # M[]"
      ]
     },
     "execution_count": 6,
     "metadata": {},
     "output_type": "execute_result"
    }
   ],
   "source": [
    "M[2,4,3,1,1,2,4,2].coproduct()"
   ]
  },
  {
   "cell_type": "code",
   "execution_count": 7,
   "metadata": {},
   "outputs": [
    {
     "data": {
      "text/plain": [
       "M[21122] # M[212] + M[231122] # M[11]"
      ]
     },
     "execution_count": 7,
     "metadata": {},
     "output_type": "execute_result"
    }
   ],
   "source": [
    "M.left_coproduct(M[2,4,3,1,1,2,4,2])"
   ]
  },
  {
   "cell_type": "code",
   "execution_count": 8,
   "metadata": {},
   "outputs": [
    {
     "data": {
      "text/plain": [
       "M[11] # M[132131]"
      ]
     },
     "execution_count": 8,
     "metadata": {},
     "output_type": "execute_result"
    }
   ],
   "source": [
    "M.right_coproduct(M[2,4,3,1,1,2,4,2])"
   ]
  },
  {
   "cell_type": "code",
   "execution_count": 9,
   "metadata": {},
   "outputs": [
    {
     "data": {
      "text/plain": [
       "M[] # M[24311242] + M[24311242] # M[]"
      ]
     },
     "execution_count": 9,
     "metadata": {},
     "output_type": "execute_result"
    }
   ],
   "source": [
    "p = PackedWord([2,4,3,1,1,2,4,2]);\n",
    "M.coproduct(M[p]) - (M.left_coproduct(M[p]) + M.right_coproduct(M[p]))"
   ]
  },
  {
   "cell_type": "markdown",
   "metadata": {},
   "source": [
    "Pareil pour les bases $\\mathbb{Q}$ et $\\mathbb{R}$ (produit, demi-produits, coproduit et demi-coproduits) Voici juste deux petits exemples."
   ]
  },
  {
   "cell_type": "code",
   "execution_count": 10,
   "metadata": {},
   "outputs": [
    {
     "data": {
      "text/plain": [
       "Q[34321] + Q[24231] + Q[14132]"
      ]
     },
     "execution_count": 10,
     "metadata": {},
     "output_type": "execute_result"
    }
   ],
   "source": [
    "Q[1,2,1] << Q[2,1]"
   ]
  },
  {
   "cell_type": "code",
   "execution_count": 11,
   "metadata": {},
   "outputs": [
    {
     "data": {
      "text/plain": [
       "R[12143] + R[12413] + R[14213] + R[41213]"
      ]
     },
     "execution_count": 11,
     "metadata": {},
     "output_type": "execute_result"
    }
   ],
   "source": [
    "R[1,2,1] >> R[2,1]"
   ]
  },
  {
   "cell_type": "markdown",
   "metadata": {},
   "source": [
    "On parlera plus tard des produits et coproduits dans les bases $\\mathbb{O}$ et $\\mathbb{P}$"
   ]
  },
  {
   "cell_type": "markdown",
   "metadata": {},
   "source": [
    "Les changements de bases fonctionnent bien, mais parfois pour calculer l'inverse je n'ai pas implémenté mieux que de calculer la matrice complete puis d'inversé. Voici donc les sens qui fonctionnent bien:\n",
    "- $\\mathbb{M}$ $\\leftrightarrow$ $\\mathbb{Q}$\n",
    "- $\\mathbb{O}$ $\\rightarrow$ $\\mathbb{Q}$\n",
    "- $\\mathbb{P}$ $\\rightarrow$ $\\mathbb{R}$\n",
    "\n",
    "Finalement, quand j'ai un élément dans la base $\\mathbb{O}$ ou $\\mathbb{P}$, j'utilise les définitions basé sur les arbres. Dans l'autre sens je fais juste l'inverse de la matrice complète. Il est surement possible d'améliorer cette partie.\n",
    "\n",
    "Enfin l'isomorphisme entre $\\mathbb{O}$ et $\\mathbb{P}$ est codé comme un simple changement de base.\n",
    "\n",
    "- $\\mathbb{O}$ $\\leftrightarrow$ $\\mathbb{P}$"
   ]
  },
  {
   "cell_type": "markdown",
   "metadata": {},
   "source": [
    "#### $\\mathbb{M}$ et $\\mathbb{Q}$"
   ]
  },
  {
   "cell_type": "markdown",
   "metadata": {},
   "source": [
    "Rappel: Le changement de base entre $\\mathbb{M}$ et $\\mathbb{Q}$ est basé sur un ordre partiel $\\leq_*$. Dans Sage, cet ordre est appelé ``strongly_fatter``. (voir notebook poset)"
   ]
  },
  {
   "cell_type": "markdown",
   "metadata": {},
   "source": [
    "$$\\mathbb{Q}_P = \\sum_{P \\leq_* W} \\mathbb{M}_W,$$"
   ]
  },
  {
   "cell_type": "code",
   "execution_count": 12,
   "metadata": {},
   "outputs": [],
   "source": [
    "#Poset(PackedWords(4), ) TODO: faire juste le poset pour le mot p que j'utilise juste après (voir my_pw LWO_plot et autre)"
   ]
  },
  {
   "cell_type": "code",
   "execution_count": 13,
   "metadata": {},
   "outputs": [],
   "source": [
    "p = PackedWord([7,6,2,4,3,4,5,1,1])"
   ]
  },
  {
   "cell_type": "code",
   "execution_count": 14,
   "metadata": {},
   "outputs": [
    {
     "data": {
      "text/plain": [
       "M[762434511] + M[652434411] + M[652323411] + M[542323311]"
      ]
     },
     "execution_count": 14,
     "metadata": {},
     "output_type": "execute_result"
    }
   ],
   "source": [
    "M(Q[p])"
   ]
  },
  {
   "cell_type": "code",
   "execution_count": 15,
   "metadata": {},
   "outputs": [
    {
     "data": {
      "text/plain": [
       "Q[762434511] - Q[652434411] - Q[652323411] + Q[542323311]"
      ]
     },
     "execution_count": 15,
     "metadata": {},
     "output_type": "execute_result"
    }
   ],
   "source": [
    "Q(M[p])"
   ]
  },
  {
   "cell_type": "markdown",
   "metadata": {},
   "source": [
    "#### $\\mathbb{O}$ et $\\mathbb{Q}$"
   ]
  },
  {
   "cell_type": "code",
   "execution_count": 16,
   "metadata": {},
   "outputs": [
    {
     "data": {
      "text/plain": [
       "Q[761424533] + Q[762434511] + Q[761434522] + Q[761323544] - Q[764124533] - Q[764234511] - Q[764134522] - Q[763123544] - Q[765142433] - Q[765243411] - Q[765143422] - Q[765132344] + Q[765412433] + Q[765423411] + Q[765413422] + Q[765312344]"
      ]
     },
     "execution_count": 16,
     "metadata": {},
     "output_type": "execute_result"
    }
   ],
   "source": [
    "Q(O[p])"
   ]
  },
  {
   "cell_type": "code",
   "execution_count": 17,
   "metadata": {},
   "outputs": [
    {
     "data": {
      "text/plain": [
       "O[1211] + O[2111]"
      ]
     },
     "execution_count": 17,
     "metadata": {},
     "output_type": "execute_result"
    }
   ],
   "source": [
    "# O(Q[p]) ça prend trop de temps!\n",
    "O(Q[1,2,1,1]) # ça prend déjà un peu de temps..."
   ]
  },
  {
   "cell_type": "markdown",
   "metadata": {},
   "source": [
    "#### $\\mathbb{P}$ et $\\mathbb{R}$"
   ]
  },
  {
   "cell_type": "code",
   "execution_count": 18,
   "metadata": {},
   "outputs": [
    {
     "data": {
      "text/plain": [
       "480"
      ]
     },
     "execution_count": 18,
     "metadata": {},
     "output_type": "execute_result"
    }
   ],
   "source": [
    "len(R(P[p]))"
   ]
  },
  {
   "cell_type": "code",
   "execution_count": 19,
   "metadata": {},
   "outputs": [
    {
     "data": {
      "text/plain": [
       "P[1211]"
      ]
     },
     "execution_count": 19,
     "metadata": {},
     "output_type": "execute_result"
    }
   ],
   "source": [
    "# P(R[p]) ça prend trop de temps!\n",
    "P(R[1,2,1,1]) # ça prend déjà un peu de temps..."
   ]
  },
  {
   "cell_type": "markdown",
   "metadata": {},
   "source": [
    "#### $\\mathbb{O}$ et $\\mathbb{P}$"
   ]
  },
  {
   "cell_type": "code",
   "execution_count": 20,
   "metadata": {},
   "outputs": [
    {
     "data": {
      "text/plain": [
       "O[773545621]"
      ]
     },
     "execution_count": 20,
     "metadata": {},
     "output_type": "execute_result"
    }
   ],
   "source": [
    "O(P[p])"
   ]
  },
  {
   "cell_type": "code",
   "execution_count": 21,
   "metadata": {},
   "outputs": [
    {
     "data": {
      "text/plain": [
       "P[773545621]"
      ]
     },
     "execution_count": 21,
     "metadata": {},
     "output_type": "execute_result"
    }
   ],
   "source": [
    "P(O[p])"
   ]
  },
  {
   "cell_type": "markdown",
   "metadata": {},
   "source": [
    "Revenons sur les produits dans les bases $\\mathbb{O}$ et $\\mathbb{P}$. \n",
    "\n",
    "Je n'ai pas codé les produits et coproduits. Donc pour faire les produits je dois repasser dans une base où le produit est codé ($\\mathbb{Q}$ ou $\\mathbb{R}$), mais comme nous l'avons vu le changement de base dans l'autre sens est très lent également... Finalement les calculs deviennent très long à partir de la taille 5."
   ]
  },
  {
   "cell_type": "code",
   "execution_count": 22,
   "metadata": {},
   "outputs": [
    {
     "data": {
      "text/plain": [
       "O[] # O[4321] + O[1] # O[321] + O[21] # O[21] + O[321] # O[1] + O[4321] # O[]"
      ]
     },
     "execution_count": 22,
     "metadata": {},
     "output_type": "execute_result"
    }
   ],
   "source": [
    "O[4,3,2,1].coproduct()"
   ]
  },
  {
   "cell_type": "code",
   "execution_count": 23,
   "metadata": {},
   "outputs": [
    {
     "data": {
      "text/plain": [
       "O[4123] + O[4312] + O[2341] + O[4231] + O[3421]"
      ]
     },
     "execution_count": 23,
     "metadata": {},
     "output_type": "execute_result"
    }
   ],
   "source": [
    "O[1,2]*O[2,1]"
   ]
  },
  {
   "cell_type": "markdown",
   "metadata": {},
   "source": [
    "Grace à l'affichage en code ``ascii``, on remarque bien que le produit correspond aux greffes et le coproduit à la déconcaténation des arbres sur ces exemples."
   ]
  },
  {
   "cell_type": "markdown",
   "metadata": {},
   "source": [
    "``ascii_art`` ça va afficher l'arbre rouge pour $\\mathbb{P}$ et l'arbre bleu pour $\\mathbb{O}$."
   ]
  },
  {
   "cell_type": "code",
   "execution_count": 24,
   "metadata": {
    "scrolled": true
   },
   "outputs": [
    {
     "data": {
      "text/plain": [
       "[ (1, (1, False)) ]\n",
       "[ |               ]\n",
       "[ (0, (1, False)) ]"
      ]
     },
     "execution_count": 24,
     "metadata": {},
     "output_type": "execute_result"
    }
   ],
   "source": [
    "ascii_art(O[1,2])"
   ]
  },
  {
   "cell_type": "code",
   "execution_count": 5,
   "metadata": {},
   "outputs": [
    {
     "name": "stdout",
     "output_type": "stream",
     "text": [
      "CPU times: user 31.7 s, sys: 68 ms, total: 31.8 s\n",
      "Wall time: 31.8 s\n"
     ]
    },
    {
     "data": {
      "text/plain": [
       "[ (1, (1, False)) ]                                          \n",
       "[ |               ]                                          \n",
       "[ (1, (1, False)) ]   [   _______(2, (1, False))         ]   \n",
       "[ |               ]   [  /               /               ]   \n",
       "[ (1, (1, False)) ]   [ (1, (1, False)) (0, (1, False))  ]   \n",
       "[ |               ]   [ |                                ]   \n",
       "[ (0, (1, False)) ] + [ (0, (1, False))                  ] + \n",
       "\n",
       "                                                                             \n",
       "                                                                             \n",
       "[   _______(2, (1, False))         ]                                         \n",
       "[  /               /               ]                                         \n",
       "[ (0, (1, False)) (1, (1, False))  ]     [ (1, (1, False)), (1, (1, False)) ]\n",
       "[                 |                ]     [ |                |               ]\n",
       "[                 (0, (1, False))  ] + 2*[ (0, (1, False))  (0, (1, False)) ]"
      ]
     },
     "execution_count": 5,
     "metadata": {},
     "output_type": "execute_result"
    }
   ],
   "source": [
    "time(ascii_art(O[1,2]**2)) # encore une fois ça prend du temps environ 30 sec"
   ]
  },
  {
   "cell_type": "code",
   "execution_count": 26,
   "metadata": {},
   "outputs": [
    {
     "data": {
      "text/plain": [
       "O[] # O[4312] + O[12] # O[21] + O[312] # O[1] + O[4312] # O[]"
      ]
     },
     "execution_count": 26,
     "metadata": {},
     "output_type": "execute_result"
    }
   ],
   "source": [
    "O[4,3,1,2].coproduct()"
   ]
  },
  {
   "cell_type": "code",
   "execution_count": 84,
   "metadata": {},
   "outputs": [
    {
     "data": {
      "text/plain": [
       "0"
      ]
     },
     "execution_count": 84,
     "metadata": {},
     "output_type": "execute_result"
    }
   ],
   "source": [
    "a = O[1,2]\n",
    "b = O[1,1,2]\n",
    "ab = O[3,3,4,1,2] + O[3,3,1,2,4] + O[3,1,2,3,4] + O[2,3,1,1,4] + O[3,4,1,1,2]\n",
    "Q(a)*Q(b) - Q(ab)"
   ]
  },
  {
   "cell_type": "code",
   "execution_count": 85,
   "metadata": {},
   "outputs": [
    {
     "data": {
      "text/plain": [
       "Q[33412] + Q[22413] + Q[11423] - Q[43312] - Q[42213] - Q[41123] - Q[33421] - Q[22431] - Q[11432] + Q[43321] + Q[42231] + Q[41132]"
      ]
     },
     "execution_count": 85,
     "metadata": {},
     "output_type": "execute_result"
    }
   ],
   "source": [
    "Q(O[3,3,4,1,2])"
   ]
  },
  {
   "cell_type": "code",
   "execution_count": 86,
   "metadata": {},
   "outputs": [
    {
     "data": {
      "text/plain": [
       "0"
      ]
     },
     "execution_count": 86,
     "metadata": {},
     "output_type": "execute_result"
    }
   ],
   "source": [
    "a = O[2,2,1,1,1,1,2]\n",
    "b = O[1,1,2]\n",
    "ab = O[3,3,4,2,2,1,1,1,1,2] + O[3,3,2,2,1,1,1,1,2,4] + O[3,2,2,1,1,1,1,2,3,4] + O[3,3,2,2,2,2,3,1,1,4] + O[4,4,3,3,3,3,4,1,1,2]\n",
    "Q(a)*Q(b) - Q(ab)"
   ]
  },
  {
   "cell_type": "code",
   "execution_count": 87,
   "metadata": {},
   "outputs": [
    {
     "data": {
      "text/plain": [
       "0"
      ]
     },
     "execution_count": 87,
     "metadata": {},
     "output_type": "execute_result"
    }
   ],
   "source": [
    "a = P[1,2]\n",
    "b = P[1,1,2]\n",
    "ab = P[3,3,4,1,2] + P[3,3,1,2,4] + P[1,2,3,3,4] + P[2,3,1,1,4] + P[3,4,1,1,2]\n",
    "R(a)*R(b) - R(ab)"
   ]
  },
  {
   "cell_type": "code",
   "execution_count": 106,
   "metadata": {},
   "outputs": [
    {
     "data": {
      "text/plain": [
       "0"
      ]
     },
     "execution_count": 106,
     "metadata": {},
     "output_type": "execute_result"
    }
   ],
   "source": [
    "a = O[1,2]\n",
    "b = O[1,1,2]\n",
    "ab = O[3,3,4,1,2] + O[3,3,1,2,4] + O[3,1,2,3,4] + O[2,3,1,1,4]# + O[3,4,1,1,2]\n",
    "(Q(a)>>Q(b)) - Q(ab)"
   ]
  },
  {
   "cell_type": "code",
   "execution_count": 115,
   "metadata": {},
   "outputs": [],
   "source": [
    "ab = ab + O[3,4,1,1,2]"
   ]
  },
  {
   "cell_type": "code",
   "execution_count": 131,
   "metadata": {},
   "outputs": [
    {
     "data": {
      "text/plain": [
       "                      [ (0, (1, False)), (1, (1, False)) ]   \n",
       "                      [                  |               ]   \n",
       "                      [                  (0, (1, True))  ]   \n",
       "                      [                  |               ]   \n",
       "[ (0, (1, False)) ] # [                  (0, (1, False)) ] + \n",
       "\n",
       "                                                                              \n",
       "                                                                              \n",
       "                      [ (0, (1, False)), (0, (1, True)) , (0, (1, False)) ]   \n",
       "                      [                  |                                ]   \n",
       "[ (0, (1, False)) ] # [                  (0, (1, False))                  ] - \n",
       "\n",
       "                      [ (1, (1, False)) ]                         \n",
       "                      [ |               ]                         \n",
       "[ (1, (1, False)) ]   [ (0, (1, True))  ]   [ (1, (1, False)) ]   \n",
       "[ |               ]   [ |               ]   [ |               ]   \n",
       "[ (0, (1, False)) ] # [ (0, (1, False)) ] - [ (0, (1, False)) ] # \n",
       "\n",
       "                                                                              \n",
       "                                                                              \n",
       "[ (0, (1, True)) , (0, (1, False)) ]   [ (1, (1, False)), (0, (1, True))  ]   \n",
       "[ |                                ]   [ |                |               ]   \n",
       "[ (0, (1, False))                  ] - [ (0, (1, False))  (0, (1, False)) ] # \n",
       "\n",
       "                   \n",
       "                   \n",
       "                   \n",
       "                   \n",
       "[ (0, (1, False)) ]"
      ]
     },
     "execution_count": 131,
     "metadata": {},
     "output_type": "execute_result"
    }
   ],
   "source": [
    "ascii_art(O.tensor(O)(Q.left_coproduct(Q(O[2,3,1,1,4]))))"
   ]
  },
  {
   "cell_type": "code",
   "execution_count": 116,
   "metadata": {},
   "outputs": [
    {
     "data": {
      "text/plain": [
       "[          (1, (1, False))         ]                                          \n",
       "[          |                       ]                                          \n",
       "[   _______(1, (1, True))          ]   [   _______(2, (1, False))         ]   \n",
       "[  /               /               ]   [  /               /               ]   \n",
       "[ (1, (1, False)) (0, (1, False))  ]   [ (1, (1, False)) (0, (1, True))   ]   \n",
       "[ |                                ]   [ |               |                ]   \n",
       "[ (0, (1, False))                  ] + [ (0, (1, False)) (0, (1, False))  ] + \n",
       "\n",
       "                                                                              \n",
       "                                                                              \n",
       "[   _______(2, (1, False))         ]   [ (1, (1, False)), (1, (1, False)) ]   \n",
       "[  /               /               ]   [ |                |               ]   \n",
       "[ (0, (1, True))  (1, (1, False))  ]   [ (0, (1, True))   (0, (1, False)) ]   \n",
       "[ |               |                ]   [ |                                ]   \n",
       "[ (0, (1, False)) (0, (1, False))  ] + [ (0, (1, False))                  ] + \n",
       "\n",
       "                                    \n",
       "                                    \n",
       "[ (1, (1, False)), (1, (1, False)) ]\n",
       "[ |                |               ]\n",
       "[ (0, (1, False))  (0, (1, True))  ]\n",
       "[                  |               ]\n",
       "[                  (0, (1, False)) ]"
      ]
     },
     "execution_count": 116,
     "metadata": {},
     "output_type": "execute_result"
    }
   ],
   "source": [
    "ascii_art(ab)"
   ]
  },
  {
   "cell_type": "code",
   "execution_count": 117,
   "metadata": {
    "scrolled": true
   },
   "outputs": [
    {
     "data": {
      "text/plain": [
       "                       [ (1, (1, False)) ]                         \n",
       "                       [ |               ]                         \n",
       " [ (0, (1, True))  ]   [ (1, (1, False)) ]   [ (0, (1, True))  ]   \n",
       " [ |               ]   [ |               ]   [ |               ]   \n",
       "-[ (0, (1, False)) ] # [ (0, (1, False)) ] - [ (0, (1, False)) ] # \n",
       "\n",
       "                                                                               \n",
       "                                                                               \n",
       "[ (1, (1, False)), (0, (1, False)) ]   [ (0, (1, True))  ]   [ (0, (1, False)),\n",
       "[ |                                ]   [ |               ]   [                 \n",
       "[ (0, (1, False))                  ] - [ (0, (1, False)) ] # [                 \n",
       "\n",
       "                     [ (1, (1, False)) ]                         \n",
       "                     [ |               ]                         \n",
       " (1, (1, False)) ]   [ (0, (1, True))  ]   [ (1, (1, False)) ]   \n",
       " |               ]   [ |               ]   [ |               ]   \n",
       " (0, (1, False)) ] + [ (0, (1, False)) ] # [ (0, (1, False)) ] - \n",
       "\n",
       "[   _______(1, (1, True))          ]                                           \n",
       "[  /               /               ]                                           \n",
       "[ (1, (1, False)) (0, (1, False))  ]                         [ (1, (1, False)),\n",
       "[ |                                ]                         [ |               \n",
       "[ (0, (1, False))                  ] # [ (0, (1, False)) ] - [ (0, (1, False)) \n",
       "\n",
       "                                                             \n",
       "                                                             \n",
       " (0, (1, True))  ]                         [ (0, (1, True)) ,\n",
       " |               ]                         [ |               \n",
       " (0, (1, False)) ] # [ (0, (1, False)) ] - [ (0, (1, False)) \n",
       "\n",
       "                                        \n",
       "                                        \n",
       " (1, (1, False)) ]                      \n",
       " |               ]                      \n",
       " (0, (1, False)) ] # [ (0, (1, False)) ]"
      ]
     },
     "execution_count": 117,
     "metadata": {},
     "output_type": "execute_result"
    }
   ],
   "source": [
    "ascii_art(O.tensor(O)(Q.left_coproduct(Q(ab))))"
   ]
  },
  {
   "cell_type": "code",
   "execution_count": 118,
   "metadata": {},
   "outputs": [
    {
     "data": {
      "text/plain": [
       "                      [ (1, (1, False)) ]                         \n",
       "                      [ |               ]                         \n",
       "[ (1, (1, False)) ]   [ (0, (1, True))  ]   [ (0, (1, True))  ]   \n",
       "[ |               ]   [ |               ]   [ |               ]   \n",
       "[ (0, (1, False)) ] # [ (0, (1, False)) ] + [ (0, (1, False)) ] # \n",
       "\n",
       "[ (1, (1, False)) ]                                                             \n",
       "[ |               ]                                                             \n",
       "[ (1, (1, False)) ]   [ (0, (1, True))  ]   [ (1, (1, False)), (0, (1, False)) ]\n",
       "[ |               ]   [ |               ]   [ |                                ]\n",
       "[ (0, (1, False)) ] + [ (0, (1, False)) ] # [ (0, (1, False))                  ]\n",
       "\n",
       "                                                                \n",
       "                                                                \n",
       "   [ (0, (1, True))  ]   [ (0, (1, False)), (1, (1, False)) ]   \n",
       "   [ |               ]   [                  |               ]   \n",
       " + [ (0, (1, False)) ] # [                  (0, (1, False)) ] + \n",
       "\n",
       "[   _______(1, (1, True))          ]                                           \n",
       "[  /               /               ]                                           \n",
       "[ (1, (1, False)) (0, (1, False))  ]                         [ (1, (1, False)),\n",
       "[ |                                ]                         [ |               \n",
       "[ (0, (1, False))                  ] # [ (0, (1, False)) ] + [ (0, (1, False)) \n",
       "\n",
       "                                                             \n",
       "                                                             \n",
       " (0, (1, True))  ]                         [ (0, (1, True)) ,\n",
       " |               ]                         [ |               \n",
       " (0, (1, False)) ] # [ (0, (1, False)) ] + [ (0, (1, False)) \n",
       "\n",
       "                                        \n",
       "                                        \n",
       " (1, (1, False)) ]                      \n",
       " |               ]                      \n",
       " (0, (1, False)) ] # [ (0, (1, False)) ]"
      ]
     },
     "execution_count": 118,
     "metadata": {},
     "output_type": "execute_result"
    }
   ],
   "source": [
    "ascii_art(O.tensor(O)(Q.right_coproduct(Q(ab))))"
   ]
  },
  {
   "cell_type": "code",
   "execution_count": 125,
   "metadata": {},
   "outputs": [
    {
     "data": {
      "text/plain": [
       "O[12] # O[112] + O[112] # O[12]"
      ]
     },
     "execution_count": 125,
     "metadata": {},
     "output_type": "execute_result"
    }
   ],
   "source": [
    "O.tensor(O)(Q.left_coproduct(Q(ab)) + Q.right_coproduct(Q(ab)))"
   ]
  },
  {
   "cell_type": "code",
   "execution_count": 97,
   "metadata": {},
   "outputs": [
    {
     "data": {
      "text/plain": [
       "Q[12334] - Q[12433] + Q[13224] + Q[14223] - Q[13422] - Q[14322] - Q[21334] + Q[21433] - Q[31224] - Q[41223] + Q[31422] + Q[41322] + Q[23114] + Q[24113] - Q[32114] - Q[42113] + Q[34112] - Q[43112] - Q[23411] - Q[24311] + Q[32411] + Q[42311] - Q[34211] + Q[43211]"
      ]
     },
     "execution_count": 97,
     "metadata": {},
     "output_type": "execute_result"
    }
   ],
   "source": [
    "Q(a)*Q(b)"
   ]
  },
  {
   "cell_type": "code",
   "execution_count": 98,
   "metadata": {},
   "outputs": [
    {
     "data": {
      "text/plain": [
       "Q[34112] + Q[24113] + Q[14223] - Q[43112] - Q[42113] - Q[41223] - Q[34211] - Q[24311] - Q[14322] + Q[43211] + Q[42311] + Q[41322] + Q[12334] - Q[21334] + Q[23114] + Q[13224] - Q[32114] - Q[31224] - Q[13422] - Q[23411] - Q[12433] + Q[31422] + Q[32411] + Q[21433]"
      ]
     },
     "execution_count": 98,
     "metadata": {},
     "output_type": "execute_result"
    }
   ],
   "source": [
    "Q(ab)"
   ]
  },
  {
   "cell_type": "code",
   "execution_count": 92,
   "metadata": {},
   "outputs": [
    {
     "data": {
      "text/plain": [
       "Q[34112] + Q[24113] + Q[14223] - Q[43112] - Q[42113] - Q[41223] - Q[34211] - Q[24311] - Q[14322] + Q[43211] + Q[42311] + Q[41322]"
      ]
     },
     "execution_count": 92,
     "metadata": {},
     "output_type": "execute_result"
    }
   ],
   "source": [
    "Q(O[3,4,1,1,2])"
   ]
  },
  {
   "cell_type": "code",
   "execution_count": 81,
   "metadata": {},
   "outputs": [
    {
     "data": {
      "text/plain": [
       "0"
      ]
     },
     "execution_count": 81,
     "metadata": {},
     "output_type": "execute_result"
    }
   ],
   "source": [
    "a = O[2,2,1,1,1,1,2]\n",
    "b = O[1,1,2]\n",
    "ab = O[3,3,4,2,2,1,1,1,1,2] + O[3,3,2,2,1,1,1,1,2,4] + O[3,2,2,1,1,1,1,2,3,4] + O[3,3,2,2,2,2,3,1,1,4] + O[4,4,3,3,3,3,4,1,1,2]\n",
    "Q(a)*Q(b) - Q(ab)"
   ]
  },
  {
   "cell_type": "code",
   "execution_count": 83,
   "metadata": {},
   "outputs": [
    {
     "data": {
      "text/plain": [
       "0"
      ]
     },
     "execution_count": 83,
     "metadata": {},
     "output_type": "execute_result"
    }
   ],
   "source": [
    "a = P[1,2]\n",
    "b = P[1,1,2]\n",
    "ab = P[3,3,4,1,2] + P[3,3,1,2,4] + P[1,2,3,3,4] + P[2,3,1,1,4] + P[3,4,1,1,2]\n",
    "R(a)*R(b) - R(ab)"
   ]
  },
  {
   "cell_type": "markdown",
   "metadata": {},
   "source": [
    "Écrire ces produits et coproduits est une des prochaines étapes dans ce code. Cependant, les objets de l'algèbre étant des ``OrderedPartitionSet``"
   ]
  },
  {
   "cell_type": "markdown",
   "metadata": {},
   "source": [
    "### Automorphisme de Vargas"
   ]
  },
  {
   "cell_type": "markdown",
   "metadata": {},
   "source": [
    "TODO: Retrouver le graph qui correspond aux bases que j'ai présenté plusieurs fois (je sais où il est)"
   ]
  },
  {
   "cell_type": "markdown",
   "metadata": {},
   "source": [
    "TODO: Ici il faut remettre toutes les bases que j'ai utilisé, (faire une fusion à un moment)"
   ]
  },
  {
   "cell_type": "code",
   "execution_count": null,
   "metadata": {},
   "outputs": [],
   "source": []
  }
 ],
 "metadata": {
  "kernelspec": {
   "display_name": "SageMath 9.1.beta7",
   "language": "sage",
   "name": "sagemath"
  },
  "language_info": {
   "codemirror_mode": {
    "name": "ipython",
    "version": 3
   },
   "file_extension": ".py",
   "mimetype": "text/x-python",
   "name": "python",
   "nbconvert_exporter": "python",
   "pygments_lexer": "ipython3",
   "version": "3.7.3"
  }
 },
 "nbformat": 4,
 "nbformat_minor": 2
}
