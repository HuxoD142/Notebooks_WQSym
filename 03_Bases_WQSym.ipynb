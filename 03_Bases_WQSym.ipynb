{
 "cells": [
  {
   "cell_type": "markdown",
   "metadata": {},
   "source": [
    "# Bases de WQSym"
   ]
  },
  {
   "cell_type": "markdown",
   "metadata": {},
   "source": [
    "Dire qu'il y a pas mal de bugs du style ``M[]``. On fera avec ^^'\n"
   ]
  },
  {
   "cell_type": "code",
   "execution_count": 1,
   "metadata": {},
   "outputs": [
    {
     "name": "stdout",
     "output_type": "stream",
     "text": [
      "Defining M as shorthand for Word Quasi-symmetric functions over Rational Field in the Monomial basis\n",
      "Defining X as shorthand for Word Quasi-symmetric functions over Rational Field in the Characteristic basis\n",
      "Defining C as shorthand for Word Quasi-symmetric functions over Rational Field in the Cone basis\n",
      "Defining Q as shorthand for Word Quasi-symmetric functions over Rational Field in the Q basis\n",
      "Defining Phi as shorthand for Word Quasi-symmetric functions over Rational Field in the Phi basis\n",
      "Defining O as shorthand for Word Quasi-symmetric functions over Rational Field in the PrimitiveLeft basis\n",
      "Defining P as shorthand for Word Quasi-symmetric functions over Rational Field in the PrimitiveRight basis\n",
      "Defining R as shorthand for Word Quasi-symmetric functions over Rational Field in the RightWeakOrder basis\n"
     ]
    }
   ],
   "source": [
    "from wqsym import *\n",
    "from packed_words import *\n",
    "WQSym = WordQuasiSymmetricFunctions(QQ);\n",
    "WQSym.inject_shorthands();\n",
    "M.options.objects = 'words';\n",
    "M.options.display = 'compact'"
   ]
  },
  {
   "cell_type": "code",
   "execution_count": 6,
   "metadata": {},
   "outputs": [],
   "source": [
    "PQSym = algebras?"
   ]
  },
  {
   "cell_type": "code",
   "execution_count": null,
   "metadata": {},
   "outputs": [],
   "source": [
    "PQSym = algebras"
   ]
  },
  {
   "cell_type": "code",
   "execution_count": 7,
   "metadata": {},
   "outputs": [
    {
     "ename": "AttributeError",
     "evalue": "module 'sage.algebras.catalog' has no attribute 'PQSym'",
     "output_type": "error",
     "traceback": [
      "\u001b[1;31m---------------------------------------------------------------------------\u001b[0m",
      "\u001b[1;31mAttributeError\u001b[0m                            Traceback (most recent call last)",
      "\u001b[1;32m<ipython-input-7-e34da786cb4d>\u001b[0m in \u001b[0;36m<module>\u001b[1;34m()\u001b[0m\n\u001b[1;32m----> 1\u001b[1;33m \u001b[0mPQSym\u001b[0m \u001b[1;33m=\u001b[0m \u001b[0malgebras\u001b[0m\u001b[1;33m.\u001b[0m\u001b[0mPQSym\u001b[0m\u001b[1;33m(\u001b[0m\u001b[0mQQ\u001b[0m\u001b[1;33m)\u001b[0m\u001b[1;33m\u001b[0m\u001b[1;33m\u001b[0m\u001b[0m\n\u001b[0m",
      "\u001b[1;31mAttributeError\u001b[0m: module 'sage.algebras.catalog' has no attribute 'PQSym'"
     ]
    }
   ],
   "source": [
    "PQSym = algebras.PQSym(QQ)"
   ]
  },
  {
   "cell_type": "markdown",
   "metadata": {},
   "source": [
    "Comme on peut le voir, il y a pas mal de bases!\n",
    "\n",
    "TODO: Il va falloir faire un peu de ménage pour que j'ai d'un coup toutes les bases dont je veux parler! (c'est du boulot, mais du boulot cool!)"
   ]
  },
  {
   "cell_type": "markdown",
   "metadata": {},
   "source": [
    "Les bases $\\mathbb{X}$, $\\mathbb{C}$ et $\\Phi$ je vais pas en parler pcq c'est des bases qui sont dans sage et dont je me sers pas.\n",
    "\n",
    "La base $\\mathbb{M}$ est la base monomial def par ...\n",
    "Les base $\\mathbb{Q}$, $\\mathbb{R}$, $\\mathbb{O}$ et $\\mathbb{P}$ sont les bases que je definis dans mon article.\n",
    "\n",
    "Les bases $\\mathbb{GLD}$ etc... sont les bases def par vargas mais que j'ai renomé!.. autre section"
   ]
  },
  {
   "cell_type": "markdown",
   "metadata": {},
   "source": [
    "### Automorphisme bidendriforme"
   ]
  },
  {
   "cell_type": "code",
   "execution_count": 2,
   "metadata": {},
   "outputs": [
    {
     "data": {
      "text/plain": [
       "M[12143] + M[12132] + M[13142] + M[13132] + M[14132] + M[12131] + M[12121] + M[13121] + M[23241] + M[23231] + M[24231] + M[23221] + M[34321]"
      ]
     },
     "execution_count": 2,
     "metadata": {},
     "output_type": "execute_result"
    }
   ],
   "source": [
    "M[1,2,1] * M[2,1]"
   ]
  },
  {
   "cell_type": "code",
   "execution_count": 3,
   "metadata": {},
   "outputs": [
    {
     "data": {
      "text/plain": [
       "M[14132] + M[13121] + M[24231] + M[23221] + M[34321]"
      ]
     },
     "execution_count": 3,
     "metadata": {},
     "output_type": "execute_result"
    }
   ],
   "source": [
    "M[1,2,1] << M[2,1]"
   ]
  },
  {
   "cell_type": "code",
   "execution_count": 4,
   "metadata": {},
   "outputs": [
    {
     "data": {
      "text/plain": [
       "M[12143] + M[12132] + M[13142] + M[13132] + M[12131] + M[12121] + M[23241] + M[23231]"
      ]
     },
     "execution_count": 4,
     "metadata": {},
     "output_type": "execute_result"
    }
   ],
   "source": [
    "M[1,2,1] >> M[2,1]"
   ]
  },
  {
   "cell_type": "markdown",
   "metadata": {},
   "source": [
    "Attention, toujours mettre les parenthèses, priorité mal géré!"
   ]
  },
  {
   "cell_type": "code",
   "execution_count": 5,
   "metadata": {},
   "outputs": [
    {
     "data": {
      "text/plain": [
       "True"
      ]
     },
     "execution_count": 5,
     "metadata": {},
     "output_type": "execute_result"
    }
   ],
   "source": [
    "M[1,2,1] * M[2,1] == (M[1,2,1] << M[2,1]) + (M[1,2,1] >> M[2,1])"
   ]
  },
  {
   "cell_type": "code",
   "execution_count": 6,
   "metadata": {},
   "outputs": [
    {
     "data": {
      "text/plain": [
       "M[] # M[24311242] + M[11] # M[132131] + M[21122] # M[212] + M[231122] # M[11] + M[24311242] # M[]"
      ]
     },
     "execution_count": 6,
     "metadata": {},
     "output_type": "execute_result"
    }
   ],
   "source": [
    "M[2,4,3,1,1,2,4,2].coproduct()"
   ]
  },
  {
   "cell_type": "code",
   "execution_count": 7,
   "metadata": {},
   "outputs": [
    {
     "data": {
      "text/plain": [
       "M[21122] # M[212] + M[231122] # M[11]"
      ]
     },
     "execution_count": 7,
     "metadata": {},
     "output_type": "execute_result"
    }
   ],
   "source": [
    "M.left_coproduct(M[2,4,3,1,1,2,4,2])"
   ]
  },
  {
   "cell_type": "code",
   "execution_count": 8,
   "metadata": {},
   "outputs": [
    {
     "data": {
      "text/plain": [
       "M[11] # M[132131]"
      ]
     },
     "execution_count": 8,
     "metadata": {},
     "output_type": "execute_result"
    }
   ],
   "source": [
    "M.right_coproduct(M[2,4,3,1,1,2,4,2])"
   ]
  },
  {
   "cell_type": "code",
   "execution_count": 9,
   "metadata": {},
   "outputs": [
    {
     "data": {
      "text/plain": [
       "M[] # M[24311242] + M[24311242] # M[]"
      ]
     },
     "execution_count": 9,
     "metadata": {},
     "output_type": "execute_result"
    }
   ],
   "source": [
    "p = PackedWord([2,4,3,1,1,2,4,2]);\n",
    "M.coproduct(M[p]) - (M.left_coproduct(M[p]) + M.right_coproduct(M[p]))"
   ]
  },
  {
   "cell_type": "markdown",
   "metadata": {},
   "source": [
    "Pareil pour les bases $\\mathbb{Q}$ et $\\mathbb{R}$ (produit, demi-produits, coproduit et demi-coproduits) Voici juste deux petits exemples."
   ]
  },
  {
   "cell_type": "code",
   "execution_count": 10,
   "metadata": {},
   "outputs": [
    {
     "data": {
      "text/plain": [
       "Q[34321] + Q[24231] + Q[14132]"
      ]
     },
     "execution_count": 10,
     "metadata": {},
     "output_type": "execute_result"
    }
   ],
   "source": [
    "Q[1,2,1] << Q[2,1]"
   ]
  },
  {
   "cell_type": "code",
   "execution_count": 11,
   "metadata": {},
   "outputs": [
    {
     "data": {
      "text/plain": [
       "R[12143] + R[12413] + R[14213] + R[41213]"
      ]
     },
     "execution_count": 11,
     "metadata": {},
     "output_type": "execute_result"
    }
   ],
   "source": [
    "R[1,2,1] >> R[2,1]"
   ]
  },
  {
   "cell_type": "markdown",
   "metadata": {},
   "source": [
    "On parlera plus tard des produits et coproduits dans les bases $\\mathbb{O}$ et $\\mathbb{P}$"
   ]
  },
  {
   "cell_type": "markdown",
   "metadata": {},
   "source": [
    "Les changements de bases ça marche bien, mais parfois pour calculer l'inverse je n'ai pas implémenté mieux que de calculer la matrice complete puis d'inversé. Voici donc les sens qui fonctionnent bien:\n",
    "- $\\mathbb{M}$ $\\leftrightarrow$ $\\mathbb{Q}$\n",
    "- $\\mathbb{O}$ $\\rightarrow$ $\\mathbb{Q}$\n",
    "- $\\mathbb{P}$ $\\rightarrow$ $\\mathbb{R}$\n",
    "\n",
    "En gros quand j'ai un élément dans la base $\\mathbb{O}$ ou $\\mathbb{P}$, c'est des arbres et je suis la def de l'article. Dans l'autre sens je sais pas faire donc je fais l'inverse de la matrice.\n",
    "\n",
    "- $\\mathbb{O}$ $\\leftrightarrow$ $\\mathbb{P}$\n",
    "\n",
    "L'isomorphisme est codé comme un simple changement de base."
   ]
  },
  {
   "cell_type": "markdown",
   "metadata": {},
   "source": [
    "#### $\\mathbb{M}$ et $\\mathbb{Q}$"
   ]
  },
  {
   "cell_type": "markdown",
   "metadata": {},
   "source": [
    "Rappel: Le changement de base entre $\\mathbb{M}$ et $\\mathbb{Q}$ est basé sur un ordre partiel $\\leq_*$. Dans Sage, cet ordre est appelé ``strongly_fatter``. (voir notebook poset)"
   ]
  },
  {
   "cell_type": "markdown",
   "metadata": {},
   "source": [
    "$$\\mathbb{Q}_P = \\sum_{P \\leq_* W} \\mathbb{M}_W,$$"
   ]
  },
  {
   "cell_type": "code",
   "execution_count": 28,
   "metadata": {},
   "outputs": [],
   "source": [
    "#Poset(PackedWords(4), ) TODO: faire juste le poset pour le mot p que j'utilise juste après (voir my_pw LWO_plot et autre)"
   ]
  },
  {
   "cell_type": "code",
   "execution_count": 13,
   "metadata": {},
   "outputs": [],
   "source": [
    "p = PackedWord([7,6,2,4,3,4,5,1,1])"
   ]
  },
  {
   "cell_type": "code",
   "execution_count": 14,
   "metadata": {},
   "outputs": [
    {
     "data": {
      "text/plain": [
       "M[762434511] + M[652434411] + M[652323411] + M[542323311]"
      ]
     },
     "execution_count": 14,
     "metadata": {},
     "output_type": "execute_result"
    }
   ],
   "source": [
    "M(Q[p])"
   ]
  },
  {
   "cell_type": "code",
   "execution_count": 15,
   "metadata": {},
   "outputs": [
    {
     "data": {
      "text/plain": [
       "Q[762434511] - Q[652434411] - Q[652323411] + Q[542323311]"
      ]
     },
     "execution_count": 15,
     "metadata": {},
     "output_type": "execute_result"
    }
   ],
   "source": [
    "Q(M[p])"
   ]
  },
  {
   "cell_type": "code",
   "execution_count": 16,
   "metadata": {},
   "outputs": [
    {
     "data": {
      "text/plain": [
       "Q[761424533] + Q[762434511] + Q[761434522] + Q[761323544] - Q[764124533] - Q[764234511] - Q[764134522] - Q[763123544] - Q[765142433] - Q[765243411] - Q[765143422] - Q[765132344] + Q[765412433] + Q[765423411] + Q[765413422] + Q[765312344]"
      ]
     },
     "execution_count": 16,
     "metadata": {},
     "output_type": "execute_result"
    }
   ],
   "source": [
    "Q(O[p])"
   ]
  },
  {
   "cell_type": "code",
   "execution_count": 17,
   "metadata": {},
   "outputs": [
    {
     "data": {
      "text/plain": [
       "O[1211] + O[2111]"
      ]
     },
     "execution_count": 17,
     "metadata": {},
     "output_type": "execute_result"
    }
   ],
   "source": [
    "# O(Q[p]) ça prend trop de temps!\n",
    "O(Q[1,2,1,1]) # ça prend déjà un peu de temps..."
   ]
  },
  {
   "cell_type": "code",
   "execution_count": 18,
   "metadata": {},
   "outputs": [
    {
     "data": {
      "text/plain": [
       "480"
      ]
     },
     "execution_count": 18,
     "metadata": {},
     "output_type": "execute_result"
    }
   ],
   "source": [
    "len(R(P[p]))"
   ]
  },
  {
   "cell_type": "code",
   "execution_count": 19,
   "metadata": {},
   "outputs": [
    {
     "data": {
      "text/plain": [
       "P[1211]"
      ]
     },
     "execution_count": 19,
     "metadata": {},
     "output_type": "execute_result"
    }
   ],
   "source": [
    "# P(R[p]) ça prend trop de temps!\n",
    "P(R[1,2,1,1]) # ça prend déjà un peu de temps..."
   ]
  },
  {
   "cell_type": "code",
   "execution_count": 20,
   "metadata": {},
   "outputs": [
    {
     "data": {
      "text/plain": [
       "O[773545621]"
      ]
     },
     "execution_count": 20,
     "metadata": {},
     "output_type": "execute_result"
    }
   ],
   "source": [
    "O(P[p])"
   ]
  },
  {
   "cell_type": "code",
   "execution_count": 21,
   "metadata": {},
   "outputs": [
    {
     "data": {
      "text/plain": [
       "P[773545621]"
      ]
     },
     "execution_count": 21,
     "metadata": {},
     "output_type": "execute_result"
    }
   ],
   "source": [
    "P(O[p])"
   ]
  },
  {
   "cell_type": "markdown",
   "metadata": {},
   "source": [
    "Revenons sur les produits dans les bases $\\mathbb{O}$ et $\\mathbb{P}$. Je n'ai pas codé les produits et coproduits. Donc pour faire les produits je dois repasser dans une base où le produit est codé ($\\mathbb{Q}$ ou $\\mathbb{R}$), mais comme nous l'avons vu le changement de base dans l'autre sens est très lent également... Finalement les calculs deviennent très long à partir de la taille 5."
   ]
  },
  {
   "cell_type": "code",
   "execution_count": 22,
   "metadata": {},
   "outputs": [
    {
     "data": {
      "text/plain": [
       "O[] # O[4321] + O[1] # O[321] + O[21] # O[21] + O[321] # O[1] + O[4321] # O[]"
      ]
     },
     "execution_count": 22,
     "metadata": {},
     "output_type": "execute_result"
    }
   ],
   "source": [
    "O[4,3,2,1].coproduct()"
   ]
  },
  {
   "cell_type": "code",
   "execution_count": 23,
   "metadata": {},
   "outputs": [
    {
     "data": {
      "text/plain": [
       "O[4123] + O[4312] + O[2341] + O[4231] + O[3421]"
      ]
     },
     "execution_count": 23,
     "metadata": {},
     "output_type": "execute_result"
    }
   ],
   "source": [
    "O[1,2]*O[2,1]"
   ]
  },
  {
   "cell_type": "markdown",
   "metadata": {},
   "source": [
    "Mais quand même pour la taille 4, on y vois pas grand chose avec les mots, donc j'ai utiliser le \"display\" ``ascii`` pour les bases $\\mathbb{O}$ et $\\mathbb{P}$."
   ]
  },
  {
   "cell_type": "markdown",
   "metadata": {},
   "source": [
    "``ascii_art`` ça va afficher l'arbre rouge pour $\\mathbb{P}$ et l'arbre bleu pour $\\mathbb{O}$."
   ]
  },
  {
   "cell_type": "code",
   "execution_count": 24,
   "metadata": {
    "scrolled": true
   },
   "outputs": [
    {
     "data": {
      "text/plain": [
       "[ (1, (1, False)) ]\n",
       "[ |               ]\n",
       "[ (0, (1, False)) ]"
      ]
     },
     "execution_count": 24,
     "metadata": {},
     "output_type": "execute_result"
    }
   ],
   "source": [
    "ascii_art(O[1,2])"
   ]
  },
  {
   "cell_type": "code",
   "execution_count": 25,
   "metadata": {},
   "outputs": [
    {
     "data": {
      "text/plain": [
       "[ (1, (1, False)) ]                                          \n",
       "[ |               ]                                          \n",
       "[ (1, (1, False)) ]   [   _______(2, (1, False))         ]   \n",
       "[ |               ]   [  /               /               ]   \n",
       "[ (1, (1, False)) ]   [ (1, (1, False)) (0, (1, False))  ]   \n",
       "[ |               ]   [ |                                ]   \n",
       "[ (0, (1, False)) ] + [ (0, (1, False))                  ] + \n",
       "\n",
       "                                                                             \n",
       "                                                                             \n",
       "[   _______(2, (1, False))         ]                                         \n",
       "[  /               /               ]                                         \n",
       "[ (0, (1, False)) (1, (1, False))  ]     [ (1, (1, False)), (1, (1, False)) ]\n",
       "[                 |                ]     [ |                |               ]\n",
       "[                 (0, (1, False))  ] + 2*[ (0, (1, False))  (0, (1, False)) ]"
      ]
     },
     "execution_count": 25,
     "metadata": {},
     "output_type": "execute_result"
    }
   ],
   "source": [
    "ascii_art(O[1,2]**2) # encore une fois ça prend du temps..."
   ]
  },
  {
   "cell_type": "code",
   "execution_count": 27,
   "metadata": {},
   "outputs": [
    {
     "data": {
      "text/plain": [
       "O[] # O[4312] + O[12] # O[21] + O[312] # O[1] + O[4312] # O[]"
      ]
     },
     "execution_count": 27,
     "metadata": {},
     "output_type": "execute_result"
    }
   ],
   "source": [
    "O[4,3,1,2].coproduct()"
   ]
  },
  {
   "cell_type": "markdown",
   "metadata": {},
   "source": [
    "On remarque bien que le produit correspond aux greffes et le coproduit à la déconcaténation des arbres sur ces exemples.\n",
    "\n",
    "Écrire ces produits et coproduits est une des prochaines étapes dans ce code."
   ]
  },
  {
   "cell_type": "markdown",
   "metadata": {},
   "source": [
    "### Automorphisme de Vargas"
   ]
  },
  {
   "cell_type": "markdown",
   "metadata": {},
   "source": [
    "TODO: Retrouver le graph qui correspond aux bases que j'ai présenté plusieurs fois (je sais où il est)"
   ]
  },
  {
   "cell_type": "markdown",
   "metadata": {},
   "source": [
    "TODO: Ici il faut remettre toutes les bases que j'ai utilisé, (faire une fusion à un moment)"
   ]
  },
  {
   "cell_type": "code",
   "execution_count": null,
   "metadata": {},
   "outputs": [],
   "source": []
  }
 ],
 "metadata": {
  "kernelspec": {
   "display_name": "SageMath 9.1.beta7",
   "language": "sage",
   "name": "sagemath"
  },
  "language_info": {
   "codemirror_mode": {
    "name": "ipython",
    "version": 3
   },
   "file_extension": ".py",
   "mimetype": "text/x-python",
   "name": "python",
   "nbconvert_exporter": "python",
   "pygments_lexer": "ipython3",
   "version": "3.7.3"
  }
 },
 "nbformat": 4,
 "nbformat_minor": 2
}
