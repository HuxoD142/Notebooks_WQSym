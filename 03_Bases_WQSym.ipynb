{
 "cells": [
  {
   "cell_type": "markdown",
   "metadata": {},
   "source": [
    "# Bases de WQSym"
   ]
  },
  {
   "cell_type": "code",
   "execution_count": 1,
   "metadata": {
    "scrolled": true
   },
   "outputs": [
    {
     "name": "stdout",
     "output_type": "stream",
     "text": [
      "Defining M as shorthand for Word Quasi-symmetric functions over Rational Field in the Monomial basis\n",
      "Defining X as shorthand for Word Quasi-symmetric functions over Rational Field in the Characteristic basis\n",
      "Defining C as shorthand for Word Quasi-symmetric functions over Rational Field in the Cone basis\n",
      "Defining Q as shorthand for Word Quasi-symmetric functions over Rational Field in the Q basis\n",
      "Defining Phi as shorthand for Word Quasi-symmetric functions over Rational Field in the Phi basis\n",
      "Defining O as shorthand for Word Quasi-symmetric functions over Rational Field in the O basis\n",
      "Defining P as shorthand for Word Quasi-symmetric functions over Rational Field in the P basis\n",
      "Defining R as shorthand for Word Quasi-symmetric functions over Rational Field in the RightWeakOrder basis\n",
      "Defining GL as shorthand for Word Quasi-symmetric functions over Rational Field in the GL basis\n",
      "Defining SR as shorthand for Word Quasi-symmetric functions over Rational Field in the SR basis\n"
     ]
    }
   ],
   "source": [
    "from wqsym import *\n",
    "from packed_words import *\n",
    "WQSym = WordQuasiSymmetricFunctions(QQ);\n",
    "WQSym.inject_shorthands(); # Cette ligne permet de pouvoir utiliser toutes les bases de WQSym implémentées\n",
    "M.options.objects = 'words';\n",
    "M.options.display = 'compact'"
   ]
  },
  {
   "cell_type": "markdown",
   "metadata": {},
   "source": [
    "Nous ne parlerons pas ici des bases $\\mathbb{X}$, $\\mathbb{C}$ et $\\Phi$  qui sont déjà dans Sage et dont je ne me sers pas.\n",
    "\n",
    "La base $\\mathbb{M}$ est la base monomiale définie par \n",
    "$$\\mathbb{M}_u := \\sum_{\\substack{w \\in \\mathcal{A}^*,\\\\pack(w) = u}}w.$$\n",
    "\n",
    "Les bases $\\mathbb{Q}$, $\\mathbb{R}$, $\\mathbb{O}$ et $\\mathbb{P}$ sont les bases définies dans l'article $\\textit{Decompositions of packed words and self duality of Word Quasisymmetric Functions}$."
   ]
  },
  {
   "cell_type": "markdown",
   "metadata": {},
   "source": [
    "### TITRE"
   ]
  },
  {
   "cell_type": "markdown",
   "metadata": {},
   "source": [
    "Produits, demis-produits, coproduits et demis-coproduits sont implémentés pour les bases $\\mathbb{M}$, $\\mathbb{Q}$ et $\\mathbb{R}$. \n",
    "\n",
    "Voici des exemples pour chacune des opérations dans la base $\\mathbb{M}$."
   ]
  },
  {
   "cell_type": "code",
   "execution_count": 2,
   "metadata": {},
   "outputs": [
    {
     "data": {
      "text/plain": [
       "M[12143] + M[12132] + M[13142] + M[13132] + M[14132] + M[12131] + M[12121] + M[13121] + M[23241] + M[23231] + M[24231] + M[23221] + M[34321]"
      ]
     },
     "execution_count": 2,
     "metadata": {},
     "output_type": "execute_result"
    }
   ],
   "source": [
    "M[1,2,1] * M[2,1]"
   ]
  },
  {
   "cell_type": "code",
   "execution_count": 3,
   "metadata": {},
   "outputs": [
    {
     "data": {
      "text/plain": [
       "M[14132] + M[13121] + M[24231] + M[23221] + M[34321]"
      ]
     },
     "execution_count": 3,
     "metadata": {},
     "output_type": "execute_result"
    }
   ],
   "source": [
    "M[1,2,1] << M[2,1]"
   ]
  },
  {
   "cell_type": "code",
   "execution_count": 4,
   "metadata": {},
   "outputs": [
    {
     "data": {
      "text/plain": [
       "M[12143] + M[12132] + M[13142] + M[13132] + M[12131] + M[12121] + M[23241] + M[23231]"
      ]
     },
     "execution_count": 4,
     "metadata": {},
     "output_type": "execute_result"
    }
   ],
   "source": [
    "M[1,2,1] >> M[2,1]"
   ]
  },
  {
   "cell_type": "markdown",
   "metadata": {},
   "source": [
    "Attention, il faut toujours mettre les parenthèses avec les demis-produits, les priorités avec l'addition ne sont pas gérées!"
   ]
  },
  {
   "cell_type": "code",
   "execution_count": 5,
   "metadata": {},
   "outputs": [
    {
     "data": {
      "text/plain": [
       "True"
      ]
     },
     "execution_count": 5,
     "metadata": {},
     "output_type": "execute_result"
    }
   ],
   "source": [
    "M[1,2,1] * M[2,1] == (M[1,2,1] << M[2,1]) + (M[1,2,1] >> M[2,1])"
   ]
  },
  {
   "cell_type": "code",
   "execution_count": 6,
   "metadata": {},
   "outputs": [
    {
     "data": {
      "text/plain": [
       "M[] # M[24311242] + M[11] # M[132131] + M[21122] # M[212] + M[231122] # M[11] + M[24311242] # M[]"
      ]
     },
     "execution_count": 6,
     "metadata": {},
     "output_type": "execute_result"
    }
   ],
   "source": [
    "M[2,4,3,1,1,2,4,2].coproduct()"
   ]
  },
  {
   "cell_type": "code",
   "execution_count": 7,
   "metadata": {},
   "outputs": [
    {
     "data": {
      "text/plain": [
       "M[21122] # M[212] + M[231122] # M[11]"
      ]
     },
     "execution_count": 7,
     "metadata": {},
     "output_type": "execute_result"
    }
   ],
   "source": [
    "M.left_coproduct(M[2,4,3,1,1,2,4,2])"
   ]
  },
  {
   "cell_type": "code",
   "execution_count": 8,
   "metadata": {},
   "outputs": [
    {
     "data": {
      "text/plain": [
       "M[11] # M[132131]"
      ]
     },
     "execution_count": 8,
     "metadata": {},
     "output_type": "execute_result"
    }
   ],
   "source": [
    "M.right_coproduct(M[2,4,3,1,1,2,4,2])"
   ]
  },
  {
   "cell_type": "code",
   "execution_count": 9,
   "metadata": {},
   "outputs": [
    {
     "data": {
      "text/plain": [
       "M[] # M[24311242] + M[24311242] # M[]"
      ]
     },
     "execution_count": 9,
     "metadata": {},
     "output_type": "execute_result"
    }
   ],
   "source": [
    "p = PackedWord([2,4,3,1,1,2,4,2]);\n",
    "M.coproduct(M[p]) - (M.left_coproduct(M[p]) + M.right_coproduct(M[p]))"
   ]
  },
  {
   "cell_type": "markdown",
   "metadata": {},
   "source": [
    "De même pour les bases $\\mathbb{Q}$ et $\\mathbb{R}$ (produits, demis-produits, coproduits et demis-coproduits) en voici deux exemples."
   ]
  },
  {
   "cell_type": "code",
   "execution_count": 10,
   "metadata": {},
   "outputs": [
    {
     "data": {
      "text/plain": [
       "Q[34321] + Q[24231] + Q[14132]"
      ]
     },
     "execution_count": 10,
     "metadata": {},
     "output_type": "execute_result"
    }
   ],
   "source": [
    "Q[1,2,1] << Q[2,1]"
   ]
  },
  {
   "cell_type": "code",
   "execution_count": 11,
   "metadata": {},
   "outputs": [
    {
     "data": {
      "text/plain": [
       "R[12143] + R[12413] + R[14213] + R[41213]"
      ]
     },
     "execution_count": 11,
     "metadata": {},
     "output_type": "execute_result"
    }
   ],
   "source": [
    "R[1,2,1] >> R[2,1]"
   ]
  },
  {
   "cell_type": "markdown",
   "metadata": {},
   "source": [
    "On parlera plus tard des produits et coproduits dans les bases $\\mathbb{O}$ et $\\mathbb{P}$"
   ]
  },
  {
   "cell_type": "markdown",
   "metadata": {},
   "source": [
    "Les changements de bases fonctionnent bien, mais parfois pour calculer l'inverse je n'ai pas implémenté mieux que de calculer la matrice complète puis de l'inverser. Voici donc les sens qui fonctionnent bien:\n",
    "- $\\mathbb{M}$ $\\leftrightarrow$ $\\mathbb{Q}$\n",
    "- $\\mathbb{O}$ $\\rightarrow$ $\\mathbb{Q}$\n",
    "- $\\mathbb{P}$ $\\rightarrow$ $\\mathbb{R}$\n",
    "\n",
    "Finalement, quand j'ai un élément dans la base $\\mathbb{O}$ ou $\\mathbb{P}$, j'utilise les définitions basés sur les arbres. Dans l'autre sens je fais juste l'inverse de la matrice complète. Il est surement possible d'améliorer cette partie.\n",
    "\n",
    "Enfin l'isomorphisme entre $\\mathbb{O}$ et $\\mathbb{P}$ est codé comme un simple changement de base.\n",
    "\n",
    "- $\\mathbb{O}$ $\\leftrightarrow$ $\\mathbb{P}$\n",
    "\n",
    "Pour chacun des changement de bases nous pourrons observer la matrice de changement de base en taille 3."
   ]
  },
  {
   "cell_type": "code",
   "execution_count": 12,
   "metadata": {},
   "outputs": [],
   "source": [
    "matr_chgmt_base_osp = lambda X,Y, n: matrix([[Y(X(mu)).coefficient(sigma) for mu in OrderedSetPartitions(n)] for sigma in OrderedSetPartitions(n)])"
   ]
  },
  {
   "cell_type": "markdown",
   "metadata": {},
   "source": [
    "#### Changement de base entre $\\mathbb{M}$ et $\\mathbb{Q}$"
   ]
  },
  {
   "cell_type": "markdown",
   "metadata": {},
   "source": [
    "Rappel: Le changement de base entre $\\mathbb{M}$ et $\\mathbb{Q}$ est fondé sur un ordre partiel $\\leq_*$. Dans Sage, cet ordre est appelé ``strongly_fatter``."
   ]
  },
  {
   "cell_type": "markdown",
   "metadata": {},
   "source": [
    "$$\\mathbb{Q}_P = \\sum_{P \\leq_* W} \\mathbb{M}_W,$$"
   ]
  },
  {
   "cell_type": "code",
   "execution_count": 13,
   "metadata": {},
   "outputs": [],
   "source": [
    "p = PackedWord([7,6,2,4,3,4,5,1,1])"
   ]
  },
  {
   "cell_type": "code",
   "execution_count": 14,
   "metadata": {},
   "outputs": [
    {
     "data": {
      "text/plain": [
       "M[762434511] + M[652434411] + M[652323411] + M[542323311]"
      ]
     },
     "execution_count": 14,
     "metadata": {},
     "output_type": "execute_result"
    }
   ],
   "source": [
    "M(Q[p])"
   ]
  },
  {
   "cell_type": "code",
   "execution_count": 15,
   "metadata": {},
   "outputs": [
    {
     "data": {
      "text/plain": [
       "Q[762434511] - Q[652434411] - Q[652323411] + Q[542323311]"
      ]
     },
     "execution_count": 15,
     "metadata": {},
     "output_type": "execute_result"
    }
   ],
   "source": [
    "Q(M[p])"
   ]
  },
  {
   "cell_type": "code",
   "execution_count": 16,
   "metadata": {},
   "outputs": [
    {
     "data": {
      "text/plain": [
       "[1 0 0 0 0 0 0 0 0 0 0 0 0]\n",
       "[0 1 0 0 0 0 0 0 0 0 0 0 0]\n",
       "[0 0 1 0 0 0 0 0 0 0 0 0 0]\n",
       "[0 0 0 1 0 0 0 0 0 0 0 0 0]\n",
       "[0 0 0 0 1 0 0 0 0 0 0 0 0]\n",
       "[0 0 0 0 0 1 0 0 0 0 0 0 0]\n",
       "[1 0 0 0 0 0 1 0 0 0 0 0 0]\n",
       "[0 0 1 0 0 0 0 1 0 0 0 0 0]\n",
       "[0 0 0 1 0 0 0 0 1 0 0 0 0]\n",
       "[1 0 0 0 0 0 0 0 0 1 0 0 0]\n",
       "[0 1 0 0 0 0 0 0 0 0 1 0 0]\n",
       "[0 0 0 0 1 0 0 0 0 0 0 1 0]\n",
       "[1 0 0 0 0 0 1 0 0 1 0 0 1]"
      ]
     },
     "execution_count": 16,
     "metadata": {},
     "output_type": "execute_result"
    }
   ],
   "source": [
    "matr_chgmt_base_osp(Q,M,3)"
   ]
  },
  {
   "cell_type": "markdown",
   "metadata": {},
   "source": [
    "#### Changement de base entre $\\mathbb{O}$ et $\\mathbb{Q}$"
   ]
  },
  {
   "cell_type": "code",
   "execution_count": 17,
   "metadata": {},
   "outputs": [],
   "source": [
    "p = PackedWord([7,6,2,4,3,4,5,1,1])"
   ]
  },
  {
   "cell_type": "code",
   "execution_count": 18,
   "metadata": {},
   "outputs": [
    {
     "data": {
      "text/plain": [
       "Q[761424533] + Q[762434511] + Q[761434522] + Q[761323544] - Q[764124533] - Q[764234511] - Q[764134522] - Q[763123544] - Q[765142433] - Q[765243411] - Q[765143422] - Q[765132344] + Q[765412433] + Q[765423411] + Q[765413422] + Q[765312344]"
      ]
     },
     "execution_count": 18,
     "metadata": {},
     "output_type": "execute_result"
    }
   ],
   "source": [
    "Q(O[p])"
   ]
  },
  {
   "cell_type": "code",
   "execution_count": 19,
   "metadata": {
    "scrolled": false
   },
   "outputs": [
    {
     "name": "stdout",
     "output_type": "stream",
     "text": [
      "CPU times: user 5.7 s, sys: 3.72 ms, total: 5.7 s\n",
      "Wall time: 5.7 s\n"
     ]
    },
    {
     "data": {
      "text/plain": [
       "O[2121] + O[2211]"
      ]
     },
     "execution_count": 19,
     "metadata": {},
     "output_type": "execute_result"
    }
   ],
   "source": [
    "# O(Q[p]) Comme annoncé, cela prend trop de temps.\n",
    "%time(O(Q[1,2,2,1])) # Ce simple calcul prend déjà un certain temps. Environ 1.5 sec"
   ]
  },
  {
   "cell_type": "code",
   "execution_count": 20,
   "metadata": {},
   "outputs": [
    {
     "data": {
      "text/plain": [
       "[ 1  0  0  0  0  0  0  0  0  0  0  0  0]\n",
       "[ 0  1 -1  1  0  0  0  0  0  0  0  0  0]\n",
       "[-1  0  1  0  0  0  0  0  0  0  0  0  0]\n",
       "[ 0  0 -1  1  0  0  0  0  0  0  0  0  0]\n",
       "[-1 -1  1 -1  1  0  0  0  0  0  0  0  0]\n",
       "[ 1  0  0 -1 -1  1  0  0  0  0  0  0  0]\n",
       "[ 0  0  0  0  0  0  1  1  0  0  0  0  0]\n",
       "[ 0  0  0  0  0  0 -1  0  0  0  0  0  0]\n",
       "[ 0  0  0  0  0  0  0 -1  1  0  0  0  0]\n",
       "[ 0  0  0  0  0  0  0  0  0  1  0  0  0]\n",
       "[ 0  0  0  0  0  0  0  0  0  0  1  0  0]\n",
       "[ 0  0  0  0  0  0  0  0  0 -1 -1  1  0]\n",
       "[ 0  0  0  0  0  0  0  0  0  0  0  0  1]"
      ]
     },
     "execution_count": 20,
     "metadata": {},
     "output_type": "execute_result"
    }
   ],
   "source": [
    "matr_chgmt_base_osp(O,Q,3)"
   ]
  },
  {
   "cell_type": "markdown",
   "metadata": {},
   "source": [
    "#### Changement de base entre $\\mathbb{P}$ et $\\mathbb{R}$"
   ]
  },
  {
   "cell_type": "code",
   "execution_count": 21,
   "metadata": {},
   "outputs": [
    {
     "data": {
      "text/plain": [
       "480"
      ]
     },
     "execution_count": 21,
     "metadata": {},
     "output_type": "execute_result"
    }
   ],
   "source": [
    "len(R(P[p]))"
   ]
  },
  {
   "cell_type": "code",
   "execution_count": 22,
   "metadata": {
    "scrolled": true
   },
   "outputs": [
    {
     "data": {
      "text/plain": [
       "P[1211]"
      ]
     },
     "execution_count": 22,
     "metadata": {},
     "output_type": "execute_result"
    }
   ],
   "source": [
    "# P(R[p]) Comme annoncé, cela prend trop de temps.\n",
    "P(R[1,2,1,1]) # Ce simple calcul prend déjà un certain temps. Environ 20 sec"
   ]
  },
  {
   "cell_type": "code",
   "execution_count": 23,
   "metadata": {},
   "outputs": [
    {
     "data": {
      "text/plain": [
       "[ 1  0  0  0  0  0  0  0  0  0  0  0  0]\n",
       "[ 0  1 -1  0  1  0  0  0  0  0  0  0  0]\n",
       "[-1  0  1  0  0  0  0  0  0  0  0  0  0]\n",
       "[-1 -1  1  1 -1  0  0  0  0  0  0  0  0]\n",
       "[ 0  0 -1  0  1  0  0  0  0  0  0  0  0]\n",
       "[ 1  0  0 -1 -1  1  0  0  0  0  0  0  0]\n",
       "[ 0  0  0  0  0  0  1  0  0  0  0  0  0]\n",
       "[ 0  0  0  0  0  0  1  1  0  0  0  0  0]\n",
       "[ 0  0  0  0  0  0  0  0  1 -1  0  0  0]\n",
       "[ 0  0  0  0  0  0  0  0  0  1  0  0  0]\n",
       "[ 0  0  0  0  0  0 -1  0  0  0  1  1  0]\n",
       "[ 0  0  0  0  0  0 -1  0  0  0  0  1  0]\n",
       "[ 0  0  0  0  0  0  0  0  0  0  0  0  1]"
      ]
     },
     "execution_count": 23,
     "metadata": {},
     "output_type": "execute_result"
    }
   ],
   "source": [
    "matr_chgmt_base_osp(P,R,3)"
   ]
  },
  {
   "cell_type": "markdown",
   "metadata": {},
   "source": [
    "#### Changement de base entre $\\mathbb{O}$ et $\\mathbb{P}$"
   ]
  },
  {
   "cell_type": "code",
   "execution_count": 24,
   "metadata": {},
   "outputs": [],
   "source": [
    "p = PackedWord([7,6,2,4,3,4,5,1,1])"
   ]
  },
  {
   "cell_type": "code",
   "execution_count": 25,
   "metadata": {},
   "outputs": [
    {
     "data": {
      "text/plain": [
       "O[773545621]"
      ]
     },
     "execution_count": 25,
     "metadata": {},
     "output_type": "execute_result"
    }
   ],
   "source": [
    "O(P[p])"
   ]
  },
  {
   "cell_type": "code",
   "execution_count": 26,
   "metadata": {
    "scrolled": true
   },
   "outputs": [
    {
     "data": {
      "text/plain": [
       "P[773545621]"
      ]
     },
     "execution_count": 26,
     "metadata": {},
     "output_type": "execute_result"
    }
   ],
   "source": [
    "P(O[p])"
   ]
  },
  {
   "cell_type": "code",
   "execution_count": 27,
   "metadata": {},
   "outputs": [
    {
     "data": {
      "text/plain": [
       "[1 0 0 0 0 0 0 0 0 0 0 0 0]\n",
       "[0 1 0 0 0 0 0 0 0 0 0 0 0]\n",
       "[0 0 1 0 0 0 0 0 0 0 0 0 0]\n",
       "[0 0 0 0 1 0 0 0 0 0 0 0 0]\n",
       "[0 0 0 1 0 0 0 0 0 0 0 0 0]\n",
       "[0 0 0 0 0 1 0 0 0 0 0 0 0]\n",
       "[0 0 0 0 0 0 0 1 0 0 0 0 0]\n",
       "[0 0 0 0 0 0 1 0 0 0 0 0 0]\n",
       "[0 0 0 0 0 0 0 0 0 0 0 1 0]\n",
       "[0 0 0 0 0 0 0 0 0 1 0 0 0]\n",
       "[0 0 0 0 0 0 0 0 0 0 1 0 0]\n",
       "[0 0 0 0 0 0 0 0 1 0 0 0 0]\n",
       "[0 0 0 0 0 0 0 0 0 0 0 0 1]"
      ]
     },
     "execution_count": 27,
     "metadata": {},
     "output_type": "execute_result"
    }
   ],
   "source": [
    "matr_chgmt_base_osp(O,P,3)"
   ]
  },
  {
   "cell_type": "markdown",
   "metadata": {},
   "source": [
    "### Produits dans les bases $\\mathbb{O}$ et $\\mathbb{P}$. \n",
    "\n",
    "Je n'ai pas codé les produits et coproduits. Donc pour obtenir le produit de deux éléments dans une de ces bases ou le coproduit d'un élément, je dois changer de base vers une où le produit est codé ($\\mathbb{Q}$ ou $\\mathbb{R}$). Cependant, comme nous l'avons vu, retourner dans la base initiale est très lent. En conclusion, nous constatons que les temps de calculs deviennent très long à partir de la taille 5.\n",
    "\n",
    "Le même raisonnement s'applique pour les demis-produits et demis-coproduits."
   ]
  },
  {
   "cell_type": "code",
   "execution_count": 28,
   "metadata": {},
   "outputs": [
    {
     "data": {
      "text/plain": [
       "O[] # O[4321] + O[1] # O[321] + O[21] # O[21] + O[321] # O[1] + O[4321] # O[]"
      ]
     },
     "execution_count": 28,
     "metadata": {},
     "output_type": "execute_result"
    }
   ],
   "source": [
    "O[4,3,2,1].coproduct()"
   ]
  },
  {
   "cell_type": "code",
   "execution_count": 29,
   "metadata": {},
   "outputs": [
    {
     "data": {
      "text/plain": [
       "O[4123] + O[4312] + O[2341] + O[4231] + O[3421]"
      ]
     },
     "execution_count": 29,
     "metadata": {},
     "output_type": "execute_result"
    }
   ],
   "source": [
    "O[1,2]*O[2,1]"
   ]
  },
  {
   "cell_type": "markdown",
   "metadata": {},
   "source": [
    "J'ai fait en sorte que ``ascii_art`` affiche la forêt rouge (resp. bleue) pour un élément dans la base $\\mathbb{P}$ (resp. $\\mathbb{O}$). Grâce à cet affichage, on remarque que le produit correspond au produit de greffes sur les forêts planes et le coproduit à la déconcaténation des arbres. Voici quelques exemples qui en témoignent."
   ]
  },
  {
   "cell_type": "code",
   "execution_count": 30,
   "metadata": {
    "scrolled": true
   },
   "outputs": [
    {
     "data": {
      "text/plain": [
       "[ (1, (1, False)) ]\n",
       "[ |               ]\n",
       "[ (0, (1, False)) ]"
      ]
     },
     "execution_count": 30,
     "metadata": {},
     "output_type": "execute_result"
    }
   ],
   "source": [
    "ascii_art(O[1,2])"
   ]
  },
  {
   "cell_type": "code",
   "execution_count": 31,
   "metadata": {
    "scrolled": true
   },
   "outputs": [
    {
     "name": "stdout",
     "output_type": "stream",
     "text": [
      "CPU times: user 31.8 s, sys: 0 ns, total: 31.8 s\n",
      "Wall time: 31.8 s\n"
     ]
    },
    {
     "data": {
      "text/plain": [
       "[ (1, (1, False)) ]                                          \n",
       "[ |               ]                                          \n",
       "[ (1, (1, False)) ]   [   _______(2, (1, False))         ]   \n",
       "[ |               ]   [  /               /               ]   \n",
       "[ (1, (1, False)) ]   [ (1, (1, False)) (0, (1, False))  ]   \n",
       "[ |               ]   [ |                                ]   \n",
       "[ (0, (1, False)) ] + [ (0, (1, False))                  ] + \n",
       "\n",
       "                                                                             \n",
       "                                                                             \n",
       "[   _______(2, (1, False))         ]                                         \n",
       "[  /               /               ]                                         \n",
       "[ (0, (1, False)) (1, (1, False))  ]     [ (1, (1, False)), (1, (1, False)) ]\n",
       "[                 |                ]     [ |                |               ]\n",
       "[                 (0, (1, False))  ] + 2*[ (0, (1, False))  (0, (1, False)) ]"
      ]
     },
     "execution_count": 31,
     "metadata": {},
     "output_type": "execute_result"
    }
   ],
   "source": [
    "time(ascii_art(O[1,2]**2)) # encore une fois ce calcul prend du temps. Environ 30 sec"
   ]
  },
  {
   "cell_type": "code",
   "execution_count": 32,
   "metadata": {},
   "outputs": [
    {
     "data": {
      "text/plain": [
       "       [ (1, (1, False)), (0, (1, False)), (0, (1, False)) ]   \n",
       "       [ |                                                 ]   \n",
       "[  ] # [ (0, (1, False))                                   ] + \n",
       "\n",
       "[ (1, (1, False)) ]                                          [ (1, (1, False)),\n",
       "[ |               ]                                          [ |               \n",
       "[ (0, (1, False)) ] # [ (0, (1, False)), (0, (1, False)) ] + [ (0, (1, False)) \n",
       "\n",
       " (0, (1, False)) ]                         [ (1, (1, False)), (0, (1, False)),\n",
       "                 ]                         [ |                                \n",
       "                 ] # [ (0, (1, False)) ] + [ (0, (1, False))                  \n",
       "\n",
       " (0, (1, False)) ]       \n",
       "                 ]       \n",
       "                 ] # [  ]"
      ]
     },
     "execution_count": 32,
     "metadata": {},
     "output_type": "execute_result"
    }
   ],
   "source": [
    "ascii_art(O[4,3,1,2].coproduct())"
   ]
  },
  {
   "cell_type": "markdown",
   "metadata": {},
   "source": [
    "J'ai effectué le calcul de deux exemples à la main, on peut voir grâce à l'affichage `ascii` que ces calculs correspondent bien au produit de greffe entre les deux arbres. Contrairement aux calculs précédents, je n'ai pas besoin de repasser dans la base $\\mathbb{O}$ (resp. $\\mathbb{P}$) donc le calcul est rapide, voire instantané."
   ]
  },
  {
   "cell_type": "code",
   "execution_count": 33,
   "metadata": {},
   "outputs": [],
   "source": [
    "a = O[2,2,1,1,1,1,2]\n",
    "b = O[1,1,2]\n",
    "ab = O[3,3,4,2,2,1,1,1,1,2] + O[3,3,2,2,1,1,1,1,2,4] + O[3,2,2,1,1,1,1,2,3,4] + O[3,3,2,2,2,2,3,1,1,4] + O[4,4,3,3,3,3,4,1,1,2]"
   ]
  },
  {
   "cell_type": "code",
   "execution_count": 34,
   "metadata": {},
   "outputs": [
    {
     "data": {
      "text/plain": [
       "0"
      ]
     },
     "execution_count": 34,
     "metadata": {},
     "output_type": "execute_result"
    }
   ],
   "source": [
    "Q(a)*Q(b) - Q(ab)"
   ]
  },
  {
   "cell_type": "code",
   "execution_count": 35,
   "metadata": {},
   "outputs": [
    {
     "data": {
      "text/plain": [
       "[   _______(1, (1, True))          ]\n",
       "[  /               /               ]\n",
       "[ (0, (1, True))  (0, (1, True))   ]\n",
       "[ |               |                ]\n",
       "[ (0, (1, True))  (0, (1, False))  ]\n",
       "[ |                                ]\n",
       "[ (0, (1, True))                   ]\n",
       "[ |                                ]\n",
       "[ (0, (1, False))                  ]"
      ]
     },
     "execution_count": 35,
     "metadata": {},
     "output_type": "execute_result"
    }
   ],
   "source": [
    "ascii_art(a)"
   ]
  },
  {
   "cell_type": "code",
   "execution_count": 36,
   "metadata": {},
   "outputs": [
    {
     "data": {
      "text/plain": [
       "[ (1, (1, False)) ]\n",
       "[ |               ]\n",
       "[ (0, (1, True))  ]\n",
       "[ |               ]\n",
       "[ (0, (1, False)) ]"
      ]
     },
     "execution_count": 36,
     "metadata": {},
     "output_type": "execute_result"
    }
   ],
   "source": [
    "ascii_art(b)"
   ]
  },
  {
   "cell_type": "code",
   "execution_count": 37,
   "metadata": {},
   "outputs": [
    {
     "data": {
      "text/plain": [
       "[                       (1, (1, False))             ]   \n",
       "[                       |                           ]   \n",
       "[            ___________(1, (1, True))              ]   \n",
       "[           /                       /               ]   \n",
       "[   _______(1, (1, True))          (0, (1, False))  ]   \n",
       "[  /               /                                ]   \n",
       "[ (0, (1, True))  (0, (1, True))                    ]   \n",
       "[ |               |                                 ]   \n",
       "[ (0, (1, True))  (0, (1, False))                   ]   \n",
       "[ |                                                 ]   \n",
       "[ (0, (1, True))                                    ]   \n",
       "[ |                                                 ]   \n",
       "[ (0, (1, False))                                   ] + \n",
       "\n",
       "                                                        \n",
       "                                                        \n",
       "[            ___________(2, (1, False))             ]   \n",
       "[           /                       /               ]   \n",
       "[   _______(1, (1, True))          (0, (1, True))   ]   \n",
       "[  /               /               |                ]   \n",
       "[ (0, (1, True))  (0, (1, True))   (0, (1, False))  ]   \n",
       "[ |               |                                 ]   \n",
       "[ (0, (1, True))  (0, (1, False))                   ]   \n",
       "[ |                                                 ]   \n",
       "[ (0, (1, True))                                    ]   \n",
       "[ |                                                 ]   \n",
       "[ (0, (1, False))                                   ] + \n",
       "\n",
       "                                                        \n",
       "                                                        \n",
       "                                                        \n",
       "                                                        \n",
       "[   _______(1, (1, True))         , (1, (1, False)) ]   \n",
       "[  /               /                |               ]   \n",
       "[ (0, (1, True))  (0, (1, True))    (0, (1, True))  ]   \n",
       "[ |               |                 |               ]   \n",
       "[ (0, (1, True))  (0, (1, False))   (0, (1, False)) ]   \n",
       "[ |                                                 ]   \n",
       "[ (0, (1, True))                                    ]   \n",
       "[ |                                                 ]   \n",
       "[ (0, (1, False))                                   ] + \n",
       "\n",
       "                                                                          \n",
       "                                                                          \n",
       "[   ___________(2, (1, False))                      ]                     \n",
       "[  /                        /                       ]                     \n",
       "[ (0, (1, True))    _______(1, (1, True))           ]   [ (1, (1, False)),\n",
       "[ |                /               /                ]   [ |               \n",
       "[ (0, (1, False)) (0, (1, True))  (0, (1, True))    ]   [ (0, (1, True))  \n",
       "[                 |               |                 ]   [ |               \n",
       "[                 (0, (1, True))  (0, (1, False))   ]   [ (0, (1, False)) \n",
       "[                 |                                 ]   [                 \n",
       "[                 (0, (1, True))                    ]   [                 \n",
       "[                 |                                 ]   [                 \n",
       "[                 (0, (1, False))                   ] + [                 \n",
       "\n",
       "                                   \n",
       "                                   \n",
       "                                   \n",
       "                                   \n",
       "   _______(1, (1, True))          ]\n",
       "  /               /               ]\n",
       " (0, (1, True))  (0, (1, True))   ]\n",
       " |               |                ]\n",
       " (0, (1, True))  (0, (1, False))  ]\n",
       " |                                ]\n",
       " (0, (1, True))                   ]\n",
       " |                                ]\n",
       " (0, (1, False))                  ]"
      ]
     },
     "execution_count": 37,
     "metadata": {},
     "output_type": "execute_result"
    }
   ],
   "source": [
    "ascii_art(ab)"
   ]
  },
  {
   "cell_type": "code",
   "execution_count": 38,
   "metadata": {},
   "outputs": [
    {
     "data": {
      "text/plain": [
       "0"
      ]
     },
     "execution_count": 38,
     "metadata": {},
     "output_type": "execute_result"
    }
   ],
   "source": [
    "a = P[1,2]\n",
    "b = P[1,1,2]\n",
    "ab = P[3,3,4,1,2] + P[3,3,1,2,4] + P[1,2,3,3,4] + P[2,3,1,1,4] + P[3,4,1,1,2]\n",
    "R(a)*R(b) - R(ab)"
   ]
  }
 ],
 "metadata": {
  "kernelspec": {
   "display_name": "SageMath 9.1.beta7",
   "language": "sage",
   "name": "sagemath"
  },
  "language_info": {
   "codemirror_mode": {
    "name": "ipython",
    "version": 3
   },
   "file_extension": ".py",
   "mimetype": "text/x-python",
   "name": "python",
   "nbconvert_exporter": "python",
   "pygments_lexer": "ipython3",
   "version": "3.7.3"
  }
 },
 "nbformat": 4,
 "nbformat_minor": 2
}
