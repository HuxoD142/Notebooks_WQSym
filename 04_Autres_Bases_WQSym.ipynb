{
 "cells": [
  {
   "cell_type": "markdown",
   "metadata": {},
   "source": [
    "# Bases de WQSym"
   ]
  },
  {
   "cell_type": "code",
   "execution_count": 1,
   "metadata": {
    "scrolled": true
   },
   "outputs": [
    {
     "name": "stdout",
     "output_type": "stream",
     "text": [
      "Defining M as shorthand for Word Quasi-symmetric functions over Rational Field in the Monomial basis\n",
      "Defining X as shorthand for Word Quasi-symmetric functions over Rational Field in the Characteristic basis\n",
      "Defining C as shorthand for Word Quasi-symmetric functions over Rational Field in the Cone basis\n",
      "Defining Q as shorthand for Word Quasi-symmetric functions over Rational Field in the Q basis\n",
      "Defining Phi as shorthand for Word Quasi-symmetric functions over Rational Field in the Phi basis\n",
      "Defining O as shorthand for Word Quasi-symmetric functions over Rational Field in the O basis\n",
      "Defining P as shorthand for Word Quasi-symmetric functions over Rational Field in the P basis\n",
      "Defining R as shorthand for Word Quasi-symmetric functions over Rational Field in the RightWeakOrder basis\n",
      "Defining GL as shorthand for Word Quasi-symmetric functions over Rational Field in the GL basis\n",
      "Defining SR as shorthand for Word Quasi-symmetric functions over Rational Field in the SR basis\n"
     ]
    }
   ],
   "source": [
    "from wqsym import *\n",
    "from packed_words import *\n",
    "WQSym = WordQuasiSymmetricFunctions(QQ);\n",
    "WQSym.inject_shorthands();\n",
    "M.options.objects = 'words';\n",
    "M.options.display = 'compact'"
   ]
  },
  {
   "cell_type": "markdown",
   "metadata": {},
   "source": [
    "Nous nous intéressons ici aux bases $\\mathbb{GL}$ et $\\mathbb{SR}$ qui sont celles définies par Vargas et que j'ai renommées."
   ]
  },
  {
   "cell_type": "markdown",
   "metadata": {},
   "source": [
    "### Automorphisme de Vargas"
   ]
  },
  {
   "cell_type": "markdown",
   "metadata": {},
   "source": [
    "TODO: Mettre le diagramm avec les bases de vargas, voir figures/WQSym_basis.tex"
   ]
  },
  {
   "cell_type": "code",
   "execution_count": 2,
   "metadata": {},
   "outputs": [],
   "source": [
    "matr_chgmt_base_osp = lambda X,Y, n: matrix([[Y(X(mu)).coefficient(sigma) for mu in OrderedSetPartitions(n)] for sigma in OrderedSetPartitions(n)])"
   ]
  },
  {
   "cell_type": "markdown",
   "metadata": {},
   "source": [
    "### La base $\\mathbb{GL}$ (pour 'greater left')\n",
    "C'est une base multiplicative. Elle est définie comme la somme de l'idéal supérieur pour l'ordre faible gauche sur la base $\\mathbb{Q}$. \n",
    "$$\\mathbb{GL}_u := \\sum_{\\substack{u \\leq_L v}} \\mathbb{Q}_v.$$"
   ]
  },
  {
   "cell_type": "code",
   "execution_count": 3,
   "metadata": {
    "scrolled": true
   },
   "outputs": [
    {
     "data": {
      "text/plain": [
       "GL[21234586776]"
      ]
     },
     "execution_count": 3,
     "metadata": {},
     "output_type": "execute_result"
    }
   ],
   "source": [
    "GL[2,1,2,3,4,5] * GL[3,1,2,2,1]"
   ]
  },
  {
   "cell_type": "code",
   "execution_count": 4,
   "metadata": {},
   "outputs": [
    {
     "data": {
      "text/plain": [
       "True"
      ]
     },
     "execution_count": 4,
     "metadata": {},
     "output_type": "execute_result"
    }
   ],
   "source": [
    "GL[2,1,2,3,2,4] * GL[3,2,1] == Q(GL[2,1,2,3,2,4]) * Q(GL[3,2,1])"
   ]
  },
  {
   "cell_type": "code",
   "execution_count": 5,
   "metadata": {},
   "outputs": [
    {
     "data": {
      "text/plain": [
       "[1 0 0 0 0 0 0 0 0 0 0 0 0]\n",
       "[1 1 0 0 0 0 0 0 0 0 0 0 0]\n",
       "[1 0 1 0 0 0 0 0 0 0 0 0 0]\n",
       "[1 1 0 1 0 0 0 0 0 0 0 0 0]\n",
       "[1 0 1 0 1 0 0 0 0 0 0 0 0]\n",
       "[1 1 1 1 1 1 0 0 0 0 0 0 0]\n",
       "[0 0 0 0 0 0 1 0 0 0 0 0 0]\n",
       "[0 0 0 0 0 0 0 1 0 0 0 0 0]\n",
       "[0 0 0 0 0 0 0 0 1 1 0 0 0]\n",
       "[0 0 0 0 0 0 0 0 0 1 0 0 0]\n",
       "[0 0 0 0 0 0 0 0 0 0 1 0 0]\n",
       "[0 0 0 0 0 0 1 0 0 0 0 1 0]\n",
       "[0 0 0 0 0 0 0 0 0 0 0 0 1]"
      ]
     },
     "execution_count": 5,
     "metadata": {},
     "output_type": "execute_result"
    }
   ],
   "source": [
    "matr_chgmt_base_osp(GL,Q,3)"
   ]
  },
  {
   "cell_type": "markdown",
   "metadata": {},
   "source": [
    "### La base $\\mathbb{SR}$ (pour 'smaller right')\n",
    "C'est une base multiplicative. Elle est définie comme la somme de l'idéal inférieur pour l'ordre faible droit sur la base $\\mathbb{R}$.\n",
    "$$\\mathbb{SR}_u := \\sum_{\\substack{v \\leq_R u}} \\mathbb{R}_v.$$"
   ]
  },
  {
   "cell_type": "code",
   "execution_count": 6,
   "metadata": {},
   "outputs": [],
   "source": [
    "p1 = PackedWord([3,2,1,2,4,5,6])\n",
    "p2 = PackedWord([3,1,2,2,1])"
   ]
  },
  {
   "cell_type": "code",
   "execution_count": 7,
   "metadata": {},
   "outputs": [
    {
     "data": {
      "text/plain": [
       "SR[978873212456]"
      ]
     },
     "execution_count": 7,
     "metadata": {},
     "output_type": "execute_result"
    }
   ],
   "source": [
    "SR[p1] * SR[p2]"
   ]
  },
  {
   "cell_type": "code",
   "execution_count": 8,
   "metadata": {
    "scrolled": false
   },
   "outputs": [
    {
     "data": {
      "text/plain": [
       "[1 1 1 1 1 1 0 0 0 0 0 0 0]\n",
       "[0 1 0 0 1 1 0 0 0 0 0 0 0]\n",
       "[0 0 1 1 0 1 0 0 0 0 0 0 0]\n",
       "[0 0 0 1 0 1 0 0 0 0 0 0 0]\n",
       "[0 0 0 0 1 1 0 0 0 0 0 0 0]\n",
       "[0 0 0 0 0 1 0 0 0 0 0 0 0]\n",
       "[0 0 0 0 0 0 1 1 1 0 0 0 0]\n",
       "[0 0 0 0 0 0 0 1 1 0 0 0 0]\n",
       "[0 0 0 0 0 0 0 0 1 0 0 0 0]\n",
       "[0 0 0 0 0 0 0 0 0 1 1 1 0]\n",
       "[0 0 0 0 0 0 0 0 0 0 1 1 0]\n",
       "[0 0 0 0 0 0 0 0 0 0 0 1 0]\n",
       "[0 0 0 0 0 0 0 0 0 0 0 0 1]"
      ]
     },
     "execution_count": 8,
     "metadata": {},
     "output_type": "execute_result"
    }
   ],
   "source": [
    "matr_chgmt_base_osp(SR,R,3)"
   ]
  },
  {
   "cell_type": "markdown",
   "metadata": {},
   "source": [
    "L'isomorphisme d'algèbre de Hopf de Vargas est défini par \n",
    "$$\\mathbb{GL}_w \\mapsto \\mathbb{SR}_{w[::-1]}$$\n",
    "\n",
    "C'est bien un morphisme de Hopf (facile à vérifier sur les produit, un peu plus dur sur les coproduits), nous donnons des exemples pour une rapide vérification."
   ]
  },
  {
   "cell_type": "code",
   "execution_count": 9,
   "metadata": {},
   "outputs": [
    {
     "data": {
      "text/plain": [
       "SR[978873212456]"
      ]
     },
     "execution_count": 9,
     "metadata": {},
     "output_type": "execute_result"
    }
   ],
   "source": [
    "SR[p1] * SR[p2]"
   ]
  },
  {
   "cell_type": "code",
   "execution_count": 10,
   "metadata": {},
   "outputs": [
    {
     "data": {
      "text/plain": [
       "GL[654212378879]"
      ]
     },
     "execution_count": 10,
     "metadata": {},
     "output_type": "execute_result"
    }
   ],
   "source": [
    "GL[p1[::-1]] * GL[p2[::-1]]"
   ]
  },
  {
   "cell_type": "code",
   "execution_count": 11,
   "metadata": {},
   "outputs": [
    {
     "data": {
      "text/plain": [
       "SR[] # SR[3212456] + SR[1] # SR[212345] + SR[1] # SR[211345] + SR[21] # SR[11234] + SR[212] # SR[1234] + SR[3212] # SR[123] + SR[32124] # SR[12] + SR[321245] # SR[1] + SR[3212456] # SR[]"
      ]
     },
     "execution_count": 11,
     "metadata": {},
     "output_type": "execute_result"
    }
   ],
   "source": [
    "SR.tensor(SR)(R(SR[p1]).coproduct()) \n",
    "# je ne sais pas vraiment pourquoi mais c'est bcp plus efficace \n",
    "# que de le laisser faire les changements de base tout seul."
   ]
  },
  {
   "cell_type": "code",
   "execution_count": 12,
   "metadata": {},
   "outputs": [
    {
     "data": {
      "text/plain": [
       "GL[] # GL[6542123] + GL[1] # GL[543112] + GL[1] # GL[543212] + GL[12] # GL[43211] + GL[212] # GL[4321] + GL[2123] # GL[321] + GL[42123] # GL[21] + GL[542123] # GL[1] + GL[6542123] # GL[]"
      ]
     },
     "execution_count": 12,
     "metadata": {},
     "output_type": "execute_result"
    }
   ],
   "source": [
    "GL.tensor(GL)(Q(GL[p1[::-1]]).coproduct())"
   ]
  },
  {
   "cell_type": "markdown",
   "metadata": {},
   "source": [
    "Par contre ce n'est pas un morphisme bidendriforme, nous l'explicitons par un contre-exemples."
   ]
  },
  {
   "cell_type": "code",
   "execution_count": 13,
   "metadata": {
    "scrolled": true
   },
   "outputs": [
    {
     "data": {
      "text/plain": [
       "-SR[31234] + SR[33124] + SR[43123]"
      ]
     },
     "execution_count": 13,
     "metadata": {},
     "output_type": "execute_result"
    }
   ],
   "source": [
    "SR((R(SR[1,2])>>R(SR[2,1,1])))"
   ]
  },
  {
   "cell_type": "code",
   "execution_count": 14,
   "metadata": {},
   "outputs": [
    {
     "data": {
      "text/plain": [
       "-SR[43123] + SR[31234] - SR[33124] + SR[43312]"
      ]
     },
     "execution_count": 14,
     "metadata": {},
     "output_type": "execute_result"
    }
   ],
   "source": [
    "SR((R(SR[1,2])<<R(SR[2,1,1])))"
   ]
  },
  {
   "cell_type": "code",
   "execution_count": 15,
   "metadata": {},
   "outputs": [
    {
     "data": {
      "text/plain": [
       "-GL[41223] + GL[21334]"
      ]
     },
     "execution_count": 15,
     "metadata": {},
     "output_type": "execute_result"
    }
   ],
   "source": [
    "GL((Q(GL[2,1])>>Q(GL[1,1,2])))"
   ]
  },
  {
   "cell_type": "code",
   "execution_count": 16,
   "metadata": {},
   "outputs": [
    {
     "data": {
      "text/plain": [
       "GL[41223]"
      ]
     },
     "execution_count": 16,
     "metadata": {},
     "output_type": "execute_result"
    }
   ],
   "source": [
    "GL((Q(GL[2,1])<<Q(GL[1,1,2])))"
   ]
  },
  {
   "cell_type": "markdown",
   "metadata": {},
   "source": [
    "En effet, il n'y a même pas le même nombre de termes donc ce n'est pas un morphisme dendriforme."
   ]
  }
 ],
 "metadata": {
  "kernelspec": {
   "display_name": "SageMath 9.1.beta7",
   "language": "sage",
   "name": "sagemath"
  },
  "language_info": {
   "codemirror_mode": {
    "name": "ipython",
    "version": 3
   },
   "file_extension": ".py",
   "mimetype": "text/x-python",
   "name": "python",
   "nbconvert_exporter": "python",
   "pygments_lexer": "ipython3",
   "version": "3.7.3"
  }
 },
 "nbformat": 4,
 "nbformat_minor": 2
}
