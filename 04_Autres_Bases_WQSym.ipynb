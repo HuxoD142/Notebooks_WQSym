{
 "cells": [
  {
   "cell_type": "markdown",
   "metadata": {},
   "source": [
    "# Bases de WQSym"
   ]
  },
  {
   "cell_type": "markdown",
   "metadata": {},
   "source": [
    "Dire qu'il y a pas mal de bugs du style ``M[]``. On fera avec ^^'\n"
   ]
  },
  {
   "cell_type": "code",
   "execution_count": 2,
   "metadata": {
    "scrolled": true
   },
   "outputs": [
    {
     "name": "stdout",
     "output_type": "stream",
     "text": [
      "Defining M as shorthand for Word Quasi-symmetric functions over Rational Field in the Monomial basis\n",
      "Defining X as shorthand for Word Quasi-symmetric functions over Rational Field in the Characteristic basis\n",
      "Defining C as shorthand for Word Quasi-symmetric functions over Rational Field in the Cone basis\n",
      "Defining Q as shorthand for Word Quasi-symmetric functions over Rational Field in the Q basis\n",
      "Defining Phi as shorthand for Word Quasi-symmetric functions over Rational Field in the Phi basis\n",
      "Defining O as shorthand for Word Quasi-symmetric functions over Rational Field in the O basis\n",
      "Defining P as shorthand for Word Quasi-symmetric functions over Rational Field in the P basis\n",
      "Defining R as shorthand for Word Quasi-symmetric functions over Rational Field in the RightWeakOrder basis\n",
      "Defining GL as shorthand for Word Quasi-symmetric functions over Rational Field in the GL basis\n",
      "Defining SR as shorthand for Word Quasi-symmetric functions over Rational Field in the SR basis\n"
     ]
    }
   ],
   "source": [
    "from wqsym import *\n",
    "from packed_words import *\n",
    "WQSym = WordQuasiSymmetricFunctions(QQ);\n",
    "WQSym.inject_shorthands();\n",
    "M.options.objects = 'words';\n",
    "M.options.display = 'compact'"
   ]
  },
  {
   "cell_type": "markdown",
   "metadata": {},
   "source": [
    "Comme on peut le voir, il y a pas mal de bases!\n",
    "\n",
    "TODO: Il manque les bases de Vargas. (Faire un autre notebook pour ça ?"
   ]
  },
  {
   "cell_type": "markdown",
   "metadata": {},
   "source": [
    "Nous ne parlerons pas ici des bases $\\mathbb{X}$, $\\mathbb{C}$ et $\\Phi$  qui sont dans déjà dans sage et dont je ne me sers pas.\n",
    "\n",
    "La base $\\mathbb{M}$ est la base monomial def par \n",
    "$$\\mathbb{M}_u := \\sum_{\\substack{w \\in \\mathcal{A}^*,\\\\pack(w) = u}}w.$$\n",
    "\n",
    "Les base $\\mathbb{Q}$, $\\mathbb{R}$, $\\mathbb{O}$ et $\\mathbb{P}$ sont les bases definient dans l'article $\\textit{Decompositions of packed words and self duality of Word Quasisymmetric Functions}$.\n",
    "\n",
    "Les bases $\\mathbb{GL}$ et $\\mathbb{SR}$ sont les bases définient par Vargas que j'ai renomé."
   ]
  },
  {
   "cell_type": "markdown",
   "metadata": {},
   "source": [
    "### Automorphisme de Vargas"
   ]
  },
  {
   "cell_type": "markdown",
   "metadata": {},
   "source": [
    "TODO: Retrouver le graph qui correspond aux bases que j'ai présenté plusieurs fois (je sais où il est)"
   ]
  },
  {
   "cell_type": "code",
   "execution_count": 3,
   "metadata": {},
   "outputs": [],
   "source": [
    "matr_chgmt_base_osp = lambda X,Y, n: matrix([[Y(X(mu)).coefficient(sigma) for mu in OrderedSetPartitions(n)] for sigma in OrderedSetPartitions(n)])"
   ]
  },
  {
   "cell_type": "markdown",
   "metadata": {},
   "source": [
    "La base $\\mathbb{GL}$ (pour 'greater left') est une base multiplicative. Défini par la somme de l'idéal suppérieur pour l'ordre faible gauche sur la base $\\mathbb{Q}$. \n",
    "$$\\mathbb{GL}_u := \\sum_{\\substack{u \\leq_L v}} \\mathbb{Q}_v.$$"
   ]
  },
  {
   "cell_type": "code",
   "execution_count": 4,
   "metadata": {},
   "outputs": [
    {
     "data": {
      "text/plain": [
       "[1 0 0 0 0 0 0 0 0 0 0 0 0]\n",
       "[1 1 0 0 0 0 0 0 0 0 0 0 0]\n",
       "[1 0 1 0 0 0 0 0 0 0 0 0 0]\n",
       "[1 1 0 1 0 0 0 0 0 0 0 0 0]\n",
       "[1 0 1 0 1 0 0 0 0 0 0 0 0]\n",
       "[1 1 1 1 1 1 0 0 0 0 0 0 0]\n",
       "[0 0 0 0 0 0 1 0 0 0 0 0 0]\n",
       "[0 0 0 0 0 0 0 1 0 0 0 0 0]\n",
       "[0 0 0 0 0 0 0 0 1 1 0 0 0]\n",
       "[0 0 0 0 0 0 0 0 0 1 0 0 0]\n",
       "[0 0 0 0 0 0 0 0 0 0 1 0 0]\n",
       "[0 0 0 0 0 0 1 0 0 0 0 1 0]\n",
       "[0 0 0 0 0 0 0 0 0 0 0 0 1]"
      ]
     },
     "execution_count": 4,
     "metadata": {},
     "output_type": "execute_result"
    }
   ],
   "source": [
    "matr_chgmt_base_osp(GL,Q,3)"
   ]
  },
  {
   "cell_type": "code",
   "execution_count": 5,
   "metadata": {},
   "outputs": [
    {
     "data": {
      "text/plain": [
       "[ 1  0  0  0  0  0  0  0  0  0  0  0  0]\n",
       "[-1  1  0  0  0  0  0  0  0  0  0  0  0]\n",
       "[-1  0  1  0  0  0  0  0  0  0  0  0  0]\n",
       "[ 0 -1  0  1  0  0  0  0  0  0  0  0  0]\n",
       "[ 0  0 -1  0  1  0  0  0  0  0  0  0  0]\n",
       "[ 1  0  0 -1 -1  1  0  0  0  0  0  0  0]\n",
       "[ 0  0  0  0  0  0  1  0  0  0  0  0  0]\n",
       "[ 0  0  0  0  0  0  0  1  0  0  0  0  0]\n",
       "[ 0  0  0  0  0  0  0  0  1 -1  0  0  0]\n",
       "[ 0  0  0  0  0  0  0  0  0  1  0  0  0]\n",
       "[ 0  0  0  0  0  0  0  0  0  0  1  0  0]\n",
       "[ 0  0  0  0  0  0 -1  0  0  0  0  1  0]\n",
       "[ 0  0  0  0  0  0  0  0  0  0  0  0  1]"
      ]
     },
     "execution_count": 5,
     "metadata": {},
     "output_type": "execute_result"
    }
   ],
   "source": [
    "matr_chgmt_base_osp(Q,GL,3)"
   ]
  },
  {
   "cell_type": "code",
   "execution_count": 6,
   "metadata": {},
   "outputs": [
    {
     "data": {
      "text/plain": [
       "GL[21234586776]"
      ]
     },
     "execution_count": 6,
     "metadata": {},
     "output_type": "execute_result"
    }
   ],
   "source": [
    "GL[2,1,2,3,4,5] * GL[3,1,2,2,1]"
   ]
  },
  {
   "cell_type": "code",
   "execution_count": 7,
   "metadata": {},
   "outputs": [
    {
     "data": {
      "text/plain": [
       "True"
      ]
     },
     "execution_count": 7,
     "metadata": {},
     "output_type": "execute_result"
    }
   ],
   "source": [
    "GL[2,1,2,3,2,4] * GL[3,2,1] == Q(GL[2,1,2,3,2,4]) * Q(GL[3,2,1]) \n",
    "#ça prend du temps car il y a vraiment beaucoup de termes!!"
   ]
  },
  {
   "cell_type": "markdown",
   "metadata": {},
   "source": [
    "La base $\\mathbb{SR}$ (pour 'smaller right') est une base multiplicative. Défini par la somme de l'idéal inférieur pour l'ordre faible droit sur la base $\\mathbb{R}$. \n",
    "$$\\mathbb{SR}_u := \\sum_{\\substack{v \\leq_R u}} \\mathbb{R}_v.$$"
   ]
  },
  {
   "cell_type": "code",
   "execution_count": 8,
   "metadata": {},
   "outputs": [
    {
     "data": {
      "text/plain": [
       "[1 1 1 1 1 1 0 0 0 0 0 0 0]\n",
       "[0 1 0 0 1 1 0 0 0 0 0 0 0]\n",
       "[0 0 1 1 0 1 0 0 0 0 0 0 0]\n",
       "[0 0 0 1 0 1 0 0 0 0 0 0 0]\n",
       "[0 0 0 0 1 1 0 0 0 0 0 0 0]\n",
       "[0 0 0 0 0 1 0 0 0 0 0 0 0]\n",
       "[0 0 0 0 0 0 1 1 1 0 0 0 0]\n",
       "[0 0 0 0 0 0 0 1 1 0 0 0 0]\n",
       "[0 0 0 0 0 0 0 0 1 0 0 0 0]\n",
       "[0 0 0 0 0 0 0 0 0 1 1 1 0]\n",
       "[0 0 0 0 0 0 0 0 0 0 1 1 0]\n",
       "[0 0 0 0 0 0 0 0 0 0 0 1 0]\n",
       "[0 0 0 0 0 0 0 0 0 0 0 0 1]"
      ]
     },
     "execution_count": 8,
     "metadata": {},
     "output_type": "execute_result"
    }
   ],
   "source": [
    "matr_chgmt_base_osp(SR,R,3)"
   ]
  },
  {
   "cell_type": "code",
   "execution_count": 9,
   "metadata": {},
   "outputs": [
    {
     "data": {
      "text/plain": [
       "[ 1 -1 -1  0  0  1  0  0  0  0  0  0  0]\n",
       "[ 0  1  0  0 -1  0  0  0  0  0  0  0  0]\n",
       "[ 0  0  1 -1  0  0  0  0  0  0  0  0  0]\n",
       "[ 0  0  0  1  0 -1  0  0  0  0  0  0  0]\n",
       "[ 0  0  0  0  1 -1  0  0  0  0  0  0  0]\n",
       "[ 0  0  0  0  0  1  0  0  0  0  0  0  0]\n",
       "[ 0  0  0  0  0  0  1 -1  0  0  0  0  0]\n",
       "[ 0  0  0  0  0  0  0  1 -1  0  0  0  0]\n",
       "[ 0  0  0  0  0  0  0  0  1  0  0  0  0]\n",
       "[ 0  0  0  0  0  0  0  0  0  1 -1  0  0]\n",
       "[ 0  0  0  0  0  0  0  0  0  0  1 -1  0]\n",
       "[ 0  0  0  0  0  0  0  0  0  0  0  1  0]\n",
       "[ 0  0  0  0  0  0  0  0  0  0  0  0  1]"
      ]
     },
     "execution_count": 9,
     "metadata": {},
     "output_type": "execute_result"
    }
   ],
   "source": [
    "matr_chgmt_base_osp(R,SR,3)"
   ]
  },
  {
   "cell_type": "code",
   "execution_count": 34,
   "metadata": {},
   "outputs": [],
   "source": [
    "p1 = PackedWord([3,2,1,2,4,5,6])\n",
    "p2 = PackedWord([3,1,2,2,1])"
   ]
  },
  {
   "cell_type": "markdown",
   "metadata": {},
   "source": [
    "L'isomorphisme d'algèbre de Hopf de Vargas est défini par \n",
    "$$\\mathbb{GL}_w \\mapsto \\mathbb{SR}_{w[::-1]}$$\n",
    "\n",
    "C'est bien un morphisme de Hopf (facile à vérifier sur les produit, un peu plus dur sur les coproduits). Par contre ce n'est pas un morphisme bidendriforme."
   ]
  },
  {
   "cell_type": "code",
   "execution_count": 35,
   "metadata": {},
   "outputs": [
    {
     "data": {
      "text/plain": [
       "SR[978873212456]"
      ]
     },
     "execution_count": 35,
     "metadata": {},
     "output_type": "execute_result"
    }
   ],
   "source": [
    "SR[p1] * SR[p2]"
   ]
  },
  {
   "cell_type": "code",
   "execution_count": 36,
   "metadata": {},
   "outputs": [
    {
     "data": {
      "text/plain": [
       "GL[654212378879]"
      ]
     },
     "execution_count": 36,
     "metadata": {},
     "output_type": "execute_result"
    }
   ],
   "source": [
    "GL[p1[::-1]] * GL[p2[::-1]]"
   ]
  },
  {
   "cell_type": "code",
   "execution_count": 41,
   "metadata": {},
   "outputs": [
    {
     "data": {
      "text/plain": [
       "SR[] # SR[3212456] + SR[1] # SR[212345] + SR[1] # SR[211345] + SR[21] # SR[11234] + SR[212] # SR[1234] + SR[3212] # SR[123] + SR[32124] # SR[12] + SR[321245] # SR[1] + SR[3212456] # SR[]"
      ]
     },
     "execution_count": 41,
     "metadata": {},
     "output_type": "execute_result"
    }
   ],
   "source": [
    "SR.tensor(SR)(R(SR[p1]).coproduct()) \n",
    "# je ne sais pas vraiment pourquoi mais c'est bcp plus efficace \n",
    "# que de le laisser faire les changements de base tout seul."
   ]
  },
  {
   "cell_type": "code",
   "execution_count": 39,
   "metadata": {},
   "outputs": [
    {
     "data": {
      "text/plain": [
       "GL[] # GL[6542123] + GL[1] # GL[543112] + GL[1] # GL[543212] + GL[12] # GL[43211] + GL[212] # GL[4321] + GL[2123] # GL[321] + GL[42123] # GL[21] + GL[542123] # GL[1] + GL[6542123] # GL[]"
      ]
     },
     "execution_count": 39,
     "metadata": {},
     "output_type": "execute_result"
    }
   ],
   "source": [
    "GL.tensor(GL)(Q(GL[p1[::-1]]).coproduct())"
   ]
  },
  {
   "cell_type": "code",
   "execution_count": 42,
   "metadata": {
    "scrolled": true
   },
   "outputs": [
    {
     "data": {
      "text/plain": [
       "-SR[31234] + SR[33124] + SR[43123]"
      ]
     },
     "execution_count": 42,
     "metadata": {},
     "output_type": "execute_result"
    }
   ],
   "source": [
    "SR((R(SR[1,2])>>R(SR[2,1,1])))"
   ]
  },
  {
   "cell_type": "code",
   "execution_count": 43,
   "metadata": {},
   "outputs": [
    {
     "data": {
      "text/plain": [
       "-SR[43123] + SR[31234] - SR[33124] + SR[43312]"
      ]
     },
     "execution_count": 43,
     "metadata": {},
     "output_type": "execute_result"
    }
   ],
   "source": [
    "SR((R(SR[1,2])<<R(SR[2,1,1])))"
   ]
  },
  {
   "cell_type": "code",
   "execution_count": 44,
   "metadata": {},
   "outputs": [
    {
     "data": {
      "text/plain": [
       "-GL[41223] + GL[21334]"
      ]
     },
     "execution_count": 44,
     "metadata": {},
     "output_type": "execute_result"
    }
   ],
   "source": [
    "GL((Q(GL[2,1])>>Q(GL[1,1,2]))) # même pas le même nombre de terme."
   ]
  },
  {
   "cell_type": "code",
   "execution_count": 45,
   "metadata": {},
   "outputs": [
    {
     "data": {
      "text/plain": [
       "GL[41223]"
      ]
     },
     "execution_count": 45,
     "metadata": {},
     "output_type": "execute_result"
    }
   ],
   "source": [
    "GL((Q(GL[2,1])<<Q(GL[1,1,2])))"
   ]
  }
 ],
 "metadata": {
  "kernelspec": {
   "display_name": "SageMath 9.1.beta7",
   "language": "sage",
   "name": "sagemath"
  },
  "language_info": {
   "codemirror_mode": {
    "name": "ipython",
    "version": 3
   },
   "file_extension": ".py",
   "mimetype": "text/x-python",
   "name": "python",
   "nbconvert_exporter": "python",
   "pygments_lexer": "ipython3",
   "version": "3.7.3"
  }
 },
 "nbformat": 4,
 "nbformat_minor": 2
}
